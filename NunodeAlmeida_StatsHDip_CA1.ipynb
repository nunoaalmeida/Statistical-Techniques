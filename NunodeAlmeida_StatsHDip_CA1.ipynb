{
 "cells": [
  {
   "cell_type": "markdown",
   "id": "6ffbb926",
   "metadata": {},
   "source": [
    "# HDip in Science in Data Analytics for Business (FT)  ( Descriptive Stats )\n",
    "   ### - Nuno Alfredo Ribeiro Teixeira de Almeida - 2021310"
   ]
  },
  {
   "cell_type": "markdown",
   "id": "2f8add1c",
   "metadata": {},
   "source": [
    "## First section: research (25 marks)"
   ]
  },
  {
   "cell_type": "markdown",
   "id": "db38fbda",
   "metadata": {},
   "source": [
    "#### 1. Is the following statement true? Justify carrying out research and use appropriate references to support your answer:\n",
    "##### “If a dataset has mean=median=mode, we can ensure that the dataset follows a Symmetric Distribution. In addition, every time that a dataset follows a Symmetric Distribution, that means that mean=median=mode”."
   ]
  },
  {
   "cell_type": "markdown",
   "id": "36377888",
   "metadata": {},
   "source": [
    "\n",
    "We know that we cannot generalize correct results for granted. There may be variations in values between components. However, according to the sentence above, I highlight the quote below: \n",
    "\n",
    "According the first sentence about dataset has mean=median=mode, we can sure that is a Symmetric Distribuition, like as a mirror when we split iin the centre ( mode point ). \n",
    "\n",
    "\"A distribution is symmetrical if a vertical line can be drawn at some point in the histogram such that the shape to the left and the right of the vertical line are mirror images of each other. In a perfectly symmetrical distribution, the mean and the median are the same value that mode (unimodal). In a symmetrical distribution that has two modes (bimodal), the two modes would be different from the mean and median.\" ( Lumen Learning, 2021 )\n",
    "\n",
    "Afirming more that can be diferent is possible to say that a symmentrical distribuition can be classified unimodal ( having one modal ) multimodal ( having two or more modal ) or uniform ( no mode ). Which tells us that even the dataset following a Symmetric Distribuition can vary from the same values of mode=median=mean as stated in the second sentence of the question."
   ]
  },
  {
   "cell_type": "markdown",
   "id": "b1871403",
   "metadata": {},
   "source": [
    "## Second section: practical questions (10 marks)"
   ]
  },
  {
   "cell_type": "markdown",
   "id": "9f487c69",
   "metadata": {},
   "source": [
    "### 2. Answer the following questions based on this barchart which plots the variable “track_artist” from the dataframe = data_spotify. You must justify all your answers with appropriate statistical concepts and if you carried out research, you must provide appropriate references."
   ]
  },
  {
   "cell_type": "code",
   "execution_count": 1,
   "id": "32f239f5",
   "metadata": {},
   "outputs": [],
   "source": [
    "import pandas as pd\n"
   ]
  },
  {
   "cell_type": "code",
   "execution_count": 2,
   "id": "bb52122d",
   "metadata": {},
   "outputs": [],
   "source": [
    "import pandas as pd\n",
    "import numpy as np\n",
    "import seaborn as sns\n",
    "import matplotlib.pyplot as plt\n",
    "%matplotlib inline\n",
    "sns.set(color_codes=True) \n"
   ]
  },
  {
   "cell_type": "markdown",
   "id": "d916f347",
   "metadata": {},
   "source": [
    "We use function to indroduce libraries that had create before for recoginaze the function and work in the data set. The libraries in a folder that have a lot of fuction that was developed by specilist, this way we don´t need to create a function in our data set, just introce them and fill some information to get the results. In jupyter notebook we contain live code, equations, visualizations and narrative text.\n",
    "\n",
    "One of it is starting input the libraries tht we will use You can use pandas read_csv() function to import data"
   ]
  },
  {
   "cell_type": "code",
   "execution_count": 3,
   "id": "c06df2ba",
   "metadata": {},
   "outputs": [],
   "source": [
    "data_spotify = pd.read_csv('https://raw.githubusercontent.com/rfordatascience/tidytuesday/master/data/2020/2020-01-21/spotify_songs.csv')"
   ]
  },
  {
   "cell_type": "code",
   "execution_count": 4,
   "id": "abfb0762",
   "metadata": {
    "scrolled": true
   },
   "outputs": [
    {
     "data": {
      "text/plain": [
       "<AxesSubplot:xlabel='count', ylabel='track_artist'>"
      ]
     },
     "execution_count": 4,
     "metadata": {},
     "output_type": "execute_result"
    },
    {
     "data": {
      "image/png": "[encoded data removed]",
      "text/plain": [
       "<Figure size 432x288 with 1 Axes>"
      ]
     },
     "metadata": {},
     "output_type": "display_data"
    }
   ],
   "source": [
    "sns.countplot(y=\"track_artist\", data=data_spotify.iloc[0:10]) "
   ]
  },
  {
   "cell_type": "markdown",
   "id": "4e13d0a8",
   "metadata": {},
   "source": [
    "#### a. Can we deduce that there are only 8 different track artists in our entire dataset?"
   ]
  },
  {
   "cell_type": "markdown",
   "id": "c6c0184b",
   "metadata": {},
   "source": [
    "No. To analyze the information with all possible results, it is necessary to apply a few steps below.\n",
    "First, by applying the function df.head() we can check information about the dataset and check if there is too much information about it. We can see information about all columns and rows that are exhibited."
   ]
  },
  {
   "cell_type": "code",
   "execution_count": 5,
   "id": "11052e16",
   "metadata": {},
   "outputs": [
    {
     "data": {
      "text/html": [
       "<div>\n",
       "<style scoped>\n",
       "    .dataframe tbody tr th:only-of-type {\n",
       "        vertical-align: middle;\n",
       "    }\n",
       "\n",
       "    .dataframe tbody tr th {\n",
       "        vertical-align: top;\n",
       "    }\n",
       "\n",
       "    .dataframe thead th {\n",
       "        text-align: right;\n",
       "    }\n",
       "</style>\n",
       "<table border=\"1\" class=\"dataframe\">\n",
       "  <thead>\n",
       "    <tr style=\"text-align: right;\">\n",
       "      <th></th>\n",
       "      <th>track_id</th>\n",
       "      <th>track_name</th>\n",
       "      <th>track_artist</th>\n",
       "      <th>track_popularity</th>\n",
       "      <th>track_album_id</th>\n",
       "      <th>track_album_name</th>\n",
       "      <th>track_album_release_date</th>\n",
       "      <th>playlist_name</th>\n",
       "      <th>playlist_id</th>\n",
       "      <th>playlist_genre</th>\n",
       "      <th>...</th>\n",
       "      <th>key</th>\n",
       "      <th>loudness</th>\n",
       "      <th>mode</th>\n",
       "      <th>speechiness</th>\n",
       "      <th>acousticness</th>\n",
       "      <th>instrumentalness</th>\n",
       "      <th>liveness</th>\n",
       "      <th>valence</th>\n",
       "      <th>tempo</th>\n",
       "      <th>duration_ms</th>\n",
       "    </tr>\n",
       "  </thead>\n",
       "  <tbody>\n",
       "    <tr>\n",
       "      <th>0</th>\n",
       "      <td>6f807x0ima9a1j3VPbc7VN</td>\n",
       "      <td>I Don't Care (with Justin Bieber) - Loud Luxur...</td>\n",
       "      <td>Ed Sheeran</td>\n",
       "      <td>66</td>\n",
       "      <td>2oCs0DGTsRO98Gh5ZSl2Cx</td>\n",
       "      <td>I Don't Care (with Justin Bieber) [Loud Luxury...</td>\n",
       "      <td>2019-06-14</td>\n",
       "      <td>Pop Remix</td>\n",
       "      <td>37i9dQZF1DXcZDD7cfEKhW</td>\n",
       "      <td>pop</td>\n",
       "      <td>...</td>\n",
       "      <td>6</td>\n",
       "      <td>-2.634</td>\n",
       "      <td>1</td>\n",
       "      <td>0.0583</td>\n",
       "      <td>0.1020</td>\n",
       "      <td>0.000000</td>\n",
       "      <td>0.0653</td>\n",
       "      <td>0.518</td>\n",
       "      <td>122.036</td>\n",
       "      <td>194754</td>\n",
       "    </tr>\n",
       "    <tr>\n",
       "      <th>1</th>\n",
       "      <td>0r7CVbZTWZgbTCYdfa2P31</td>\n",
       "      <td>Memories - Dillon Francis Remix</td>\n",
       "      <td>Maroon 5</td>\n",
       "      <td>67</td>\n",
       "      <td>63rPSO264uRjW1X5E6cWv6</td>\n",
       "      <td>Memories (Dillon Francis Remix)</td>\n",
       "      <td>2019-12-13</td>\n",
       "      <td>Pop Remix</td>\n",
       "      <td>37i9dQZF1DXcZDD7cfEKhW</td>\n",
       "      <td>pop</td>\n",
       "      <td>...</td>\n",
       "      <td>11</td>\n",
       "      <td>-4.969</td>\n",
       "      <td>1</td>\n",
       "      <td>0.0373</td>\n",
       "      <td>0.0724</td>\n",
       "      <td>0.004210</td>\n",
       "      <td>0.3570</td>\n",
       "      <td>0.693</td>\n",
       "      <td>99.972</td>\n",
       "      <td>162600</td>\n",
       "    </tr>\n",
       "    <tr>\n",
       "      <th>2</th>\n",
       "      <td>1z1Hg7Vb0AhHDiEmnDE79l</td>\n",
       "      <td>All the Time - Don Diablo Remix</td>\n",
       "      <td>Zara Larsson</td>\n",
       "      <td>70</td>\n",
       "      <td>1HoSmj2eLcsrR0vE9gThr4</td>\n",
       "      <td>All the Time (Don Diablo Remix)</td>\n",
       "      <td>2019-07-05</td>\n",
       "      <td>Pop Remix</td>\n",
       "      <td>37i9dQZF1DXcZDD7cfEKhW</td>\n",
       "      <td>pop</td>\n",
       "      <td>...</td>\n",
       "      <td>1</td>\n",
       "      <td>-3.432</td>\n",
       "      <td>0</td>\n",
       "      <td>0.0742</td>\n",
       "      <td>0.0794</td>\n",
       "      <td>0.000023</td>\n",
       "      <td>0.1100</td>\n",
       "      <td>0.613</td>\n",
       "      <td>124.008</td>\n",
       "      <td>176616</td>\n",
       "    </tr>\n",
       "    <tr>\n",
       "      <th>3</th>\n",
       "      <td>75FpbthrwQmzHlBJLuGdC7</td>\n",
       "      <td>Call You Mine - Keanu Silva Remix</td>\n",
       "      <td>The Chainsmokers</td>\n",
       "      <td>60</td>\n",
       "      <td>1nqYsOef1yKKuGOVchbsk6</td>\n",
       "      <td>Call You Mine - The Remixes</td>\n",
       "      <td>2019-07-19</td>\n",
       "      <td>Pop Remix</td>\n",
       "      <td>37i9dQZF1DXcZDD7cfEKhW</td>\n",
       "      <td>pop</td>\n",
       "      <td>...</td>\n",
       "      <td>7</td>\n",
       "      <td>-3.778</td>\n",
       "      <td>1</td>\n",
       "      <td>0.1020</td>\n",
       "      <td>0.0287</td>\n",
       "      <td>0.000009</td>\n",
       "      <td>0.2040</td>\n",
       "      <td>0.277</td>\n",
       "      <td>121.956</td>\n",
       "      <td>169093</td>\n",
       "    </tr>\n",
       "    <tr>\n",
       "      <th>4</th>\n",
       "      <td>1e8PAfcKUYoKkxPhrHqw4x</td>\n",
       "      <td>Someone You Loved - Future Humans Remix</td>\n",
       "      <td>Lewis Capaldi</td>\n",
       "      <td>69</td>\n",
       "      <td>7m7vv9wlQ4i0LFuJiE2zsQ</td>\n",
       "      <td>Someone You Loved (Future Humans Remix)</td>\n",
       "      <td>2019-03-05</td>\n",
       "      <td>Pop Remix</td>\n",
       "      <td>37i9dQZF1DXcZDD7cfEKhW</td>\n",
       "      <td>pop</td>\n",
       "      <td>...</td>\n",
       "      <td>1</td>\n",
       "      <td>-4.672</td>\n",
       "      <td>1</td>\n",
       "      <td>0.0359</td>\n",
       "      <td>0.0803</td>\n",
       "      <td>0.000000</td>\n",
       "      <td>0.0833</td>\n",
       "      <td>0.725</td>\n",
       "      <td>123.976</td>\n",
       "      <td>189052</td>\n",
       "    </tr>\n",
       "  </tbody>\n",
       "</table>\n",
       "<p>5 rows × 23 columns</p>\n",
       "</div>"
      ],
      "text/plain": [
       "                 track_id                                         track_name  \\\n",
       "0  6f807x0ima9a1j3VPbc7VN  I Don't Care (with Justin Bieber) - Loud Luxur...   \n",
       "1  0r7CVbZTWZgbTCYdfa2P31                    Memories - Dillon Francis Remix   \n",
       "2  1z1Hg7Vb0AhHDiEmnDE79l                    All the Time - Don Diablo Remix   \n",
       "3  75FpbthrwQmzHlBJLuGdC7                  Call You Mine - Keanu Silva Remix   \n",
       "4  1e8PAfcKUYoKkxPhrHqw4x            Someone You Loved - Future Humans Remix   \n",
       "\n",
       "       track_artist  track_popularity          track_album_id  \\\n",
       "0        Ed Sheeran                66  2oCs0DGTsRO98Gh5ZSl2Cx   \n",
       "1          Maroon 5                67  63rPSO264uRjW1X5E6cWv6   \n",
       "2      Zara Larsson                70  1HoSmj2eLcsrR0vE9gThr4   \n",
       "3  The Chainsmokers                60  1nqYsOef1yKKuGOVchbsk6   \n",
       "4     Lewis Capaldi                69  7m7vv9wlQ4i0LFuJiE2zsQ   \n",
       "\n",
       "                                    track_album_name track_album_release_date  \\\n",
       "0  I Don't Care (with Justin Bieber) [Loud Luxury...               2019-06-14   \n",
       "1                    Memories (Dillon Francis Remix)               2019-12-13   \n",
       "2                    All the Time (Don Diablo Remix)               2019-07-05   \n",
       "3                        Call You Mine - The Remixes               2019-07-19   \n",
       "4            Someone You Loved (Future Humans Remix)               2019-03-05   \n",
       "\n",
       "  playlist_name             playlist_id playlist_genre  ... key  loudness  \\\n",
       "0     Pop Remix  37i9dQZF1DXcZDD7cfEKhW            pop  ...   6    -2.634   \n",
       "1     Pop Remix  37i9dQZF1DXcZDD7cfEKhW            pop  ...  11    -4.969   \n",
       "2     Pop Remix  37i9dQZF1DXcZDD7cfEKhW            pop  ...   1    -3.432   \n",
       "3     Pop Remix  37i9dQZF1DXcZDD7cfEKhW            pop  ...   7    -3.778   \n",
       "4     Pop Remix  37i9dQZF1DXcZDD7cfEKhW            pop  ...   1    -4.672   \n",
       "\n",
       "   mode  speechiness  acousticness  instrumentalness  liveness  valence  \\\n",
       "0     1       0.0583        0.1020          0.000000    0.0653    0.518   \n",
       "1     1       0.0373        0.0724          0.004210    0.3570    0.693   \n",
       "2     0       0.0742        0.0794          0.000023    0.1100    0.613   \n",
       "3     1       0.1020        0.0287          0.000009    0.2040    0.277   \n",
       "4     1       0.0359        0.0803          0.000000    0.0833    0.725   \n",
       "\n",
       "     tempo  duration_ms  \n",
       "0  122.036       194754  \n",
       "1   99.972       162600  \n",
       "2  124.008       176616  \n",
       "3  121.956       169093  \n",
       "4  123.976       189052  \n",
       "\n",
       "[5 rows x 23 columns]"
      ]
     },
     "execution_count": 5,
     "metadata": {},
     "output_type": "execute_result"
    }
   ],
   "source": [
    "data_spotify.head()"
   ]
  },
  {
   "cell_type": "markdown",
   "id": "74d80678",
   "metadata": {},
   "source": [
    "For more information and the details about the data set, you can apply the function .info With info(), we get the columns/variables, data type (if the variable is quantitative/qualitative), missing values (we can check the quantity of non-null), size of the dataset."
   ]
  },
  {
   "cell_type": "code",
   "execution_count": 6,
   "id": "732e4904",
   "metadata": {},
   "outputs": [
    {
     "name": "stdout",
     "output_type": "stream",
     "text": [
      "<class 'pandas.core.frame.DataFrame'>\n",
      "RangeIndex: 32833 entries, 0 to 32832\n",
      "Data columns (total 23 columns):\n",
      " #   Column                    Non-Null Count  Dtype  \n",
      "---  ------                    --------------  -----  \n",
      " 0   track_id                  32833 non-null  object \n",
      " 1   track_name                32828 non-null  object \n",
      " 2   track_artist              32828 non-null  object \n",
      " 3   track_popularity          32833 non-null  int64  \n",
      " 4   track_album_id            32833 non-null  object \n",
      " 5   track_album_name          32828 non-null  object \n",
      " 6   track_album_release_date  32833 non-null  object \n",
      " 7   playlist_name             32833 non-null  object \n",
      " 8   playlist_id               32833 non-null  object \n",
      " 9   playlist_genre            32833 non-null  object \n",
      " 10  playlist_subgenre         32833 non-null  object \n",
      " 11  danceability              32833 non-null  float64\n",
      " 12  energy                    32833 non-null  float64\n",
      " 13  key                       32833 non-null  int64  \n",
      " 14  loudness                  32833 non-null  float64\n",
      " 15  mode                      32833 non-null  int64  \n",
      " 16  speechiness               32833 non-null  float64\n",
      " 17  acousticness              32833 non-null  float64\n",
      " 18  instrumentalness          32833 non-null  float64\n",
      " 19  liveness                  32833 non-null  float64\n",
      " 20  valence                   32833 non-null  float64\n",
      " 21  tempo                     32833 non-null  float64\n",
      " 22  duration_ms               32833 non-null  int64  \n",
      "dtypes: float64(9), int64(4), object(10)\n",
      "memory usage: 5.8+ MB\n"
     ]
    }
   ],
   "source": [
    "data_spotify.info()"
   ]
  },
  {
   "cell_type": "markdown",
   "id": "9013b518",
   "metadata": {},
   "source": [
    "In our file, we can see that we have the artists' names in the Column named \"track_artist\" and that columns have 32828 entries. Understanding that we may have identical results. In the next step, we will use the function to separate the list of all rows. Then we can check it and see the total entries present in the Column."
   ]
  },
  {
   "cell_type": "code",
   "execution_count": 7,
   "id": "cb7215ea",
   "metadata": {
    "scrolled": true
   },
   "outputs": [
    {
     "name": "stdout",
     "output_type": "stream",
     "text": [
      "0              Ed Sheeran\n",
      "1                Maroon 5\n",
      "2            Zara Larsson\n",
      "3        The Chainsmokers\n",
      "4           Lewis Capaldi\n",
      "               ...       \n",
      "32828        Lush & Simon\n",
      "32829      Tegan and Sara\n",
      "32830         Starkillers\n",
      "32831              Mat Zo\n",
      "32832        Julian Calor\n",
      "Name: track_artist, Length: 32833, dtype: object\n"
     ]
    }
   ],
   "source": [
    "data_spotify.stack().value_counts(\"track_artist\").to_dict()\n",
    "print(data_spotify[\"track_artist\"])"
   ]
  },
  {
   "cell_type": "markdown",
   "id": "1cdb3e13",
   "metadata": {},
   "source": [
    "Another type utilized is shape that mensure the size about a especifique conlumns or the entire data set is using the function df.shape, that we can see below:"
   ]
  },
  {
   "cell_type": "code",
   "execution_count": 8,
   "id": "50da159f",
   "metadata": {},
   "outputs": [
    {
     "data": {
      "text/plain": [
       "(32833,)"
      ]
     },
     "execution_count": 8,
     "metadata": {},
     "output_type": "execute_result"
    }
   ],
   "source": [
    "data_spotify[\"track_artist\"].shape"
   ]
  },
  {
   "cell_type": "markdown",
   "id": "597074c1",
   "metadata": {},
   "source": [
    "To manage with the dataset in order to remove the artists that are duplicates and NAN values, we apply the formula below in our \"track_artist\" column."
   ]
  },
  {
   "cell_type": "code",
   "execution_count": 9,
   "id": "9ff9ac9c",
   "metadata": {},
   "outputs": [
    {
     "name": "stdout",
     "output_type": "stream",
     "text": [
      "number of duplicate rows: (22140, 23)\n"
     ]
    }
   ],
   "source": [
    "Data_artist = data_spotify[data_spotify[\"track_artist\"].duplicated()]\n",
    "print(\"number of duplicate rows:\", Data_artist.shape)"
   ]
  },
  {
   "cell_type": "code",
   "execution_count": 10,
   "id": "78a77e07",
   "metadata": {
    "scrolled": true
   },
   "outputs": [
    {
     "data": {
      "text/html": [
       "<div>\n",
       "<style scoped>\n",
       "    .dataframe tbody tr th:only-of-type {\n",
       "        vertical-align: middle;\n",
       "    }\n",
       "\n",
       "    .dataframe tbody tr th {\n",
       "        vertical-align: top;\n",
       "    }\n",
       "\n",
       "    .dataframe thead th {\n",
       "        text-align: right;\n",
       "    }\n",
       "</style>\n",
       "<table border=\"1\" class=\"dataframe\">\n",
       "  <thead>\n",
       "    <tr style=\"text-align: right;\">\n",
       "      <th></th>\n",
       "      <th>track_id</th>\n",
       "      <th>track_name</th>\n",
       "      <th>track_artist</th>\n",
       "      <th>track_popularity</th>\n",
       "      <th>track_album_id</th>\n",
       "      <th>track_album_name</th>\n",
       "      <th>track_album_release_date</th>\n",
       "      <th>playlist_name</th>\n",
       "      <th>playlist_id</th>\n",
       "      <th>playlist_genre</th>\n",
       "      <th>...</th>\n",
       "      <th>key</th>\n",
       "      <th>loudness</th>\n",
       "      <th>mode</th>\n",
       "      <th>speechiness</th>\n",
       "      <th>acousticness</th>\n",
       "      <th>instrumentalness</th>\n",
       "      <th>liveness</th>\n",
       "      <th>valence</th>\n",
       "      <th>tempo</th>\n",
       "      <th>duration_ms</th>\n",
       "    </tr>\n",
       "  </thead>\n",
       "  <tbody>\n",
       "    <tr>\n",
       "      <th>5</th>\n",
       "      <td>7fvUMiyapMsRRxr07cU8Ef</td>\n",
       "      <td>Beautiful People (feat. Khalid) - Jack Wins Remix</td>\n",
       "      <td>Ed Sheeran</td>\n",
       "      <td>67</td>\n",
       "      <td>2yiy9cd2QktrNvWC2EUi0k</td>\n",
       "      <td>Beautiful People (feat. Khalid) [Jack Wins Remix]</td>\n",
       "      <td>2019-07-11</td>\n",
       "      <td>Pop Remix</td>\n",
       "      <td>37i9dQZF1DXcZDD7cfEKhW</td>\n",
       "      <td>pop</td>\n",
       "      <td>...</td>\n",
       "      <td>8</td>\n",
       "      <td>-5.385</td>\n",
       "      <td>1</td>\n",
       "      <td>0.1270</td>\n",
       "      <td>0.07990</td>\n",
       "      <td>0.000000</td>\n",
       "      <td>0.143</td>\n",
       "      <td>0.585</td>\n",
       "      <td>124.982</td>\n",
       "      <td>163049</td>\n",
       "    </tr>\n",
       "    <tr>\n",
       "      <th>10</th>\n",
       "      <td>3eFJI470ALf1EYjywPRsJy</td>\n",
       "      <td>Cross Me (feat. Chance the Rapper &amp; PnB Rock) ...</td>\n",
       "      <td>Ed Sheeran</td>\n",
       "      <td>58</td>\n",
       "      <td>49bXZtlI5kQSqQMSCnSaWO</td>\n",
       "      <td>Cross Me (feat. Chance the Rapper &amp; PnB Rock) ...</td>\n",
       "      <td>2019-06-21</td>\n",
       "      <td>Pop Remix</td>\n",
       "      <td>37i9dQZF1DXcZDD7cfEKhW</td>\n",
       "      <td>pop</td>\n",
       "      <td>...</td>\n",
       "      <td>6</td>\n",
       "      <td>-6.500</td>\n",
       "      <td>1</td>\n",
       "      <td>0.1810</td>\n",
       "      <td>0.14600</td>\n",
       "      <td>0.000005</td>\n",
       "      <td>0.124</td>\n",
       "      <td>0.752</td>\n",
       "      <td>121.984</td>\n",
       "      <td>207894</td>\n",
       "    </tr>\n",
       "    <tr>\n",
       "      <th>13</th>\n",
       "      <td>3eLdNmnRWr9gIyBcqTSSti</td>\n",
       "      <td>SOS - Laidback Luke Tribute Remix / Radio Edit</td>\n",
       "      <td>Avicii</td>\n",
       "      <td>68</td>\n",
       "      <td>7Al4TIo0c5twNLfdOh1y1u</td>\n",
       "      <td>SOS (Laidback Luke Tribute Remix)</td>\n",
       "      <td>2019-05-17</td>\n",
       "      <td>Pop Remix</td>\n",
       "      <td>37i9dQZF1DXcZDD7cfEKhW</td>\n",
       "      <td>pop</td>\n",
       "      <td>...</td>\n",
       "      <td>5</td>\n",
       "      <td>-4.451</td>\n",
       "      <td>0</td>\n",
       "      <td>0.0625</td>\n",
       "      <td>0.01110</td>\n",
       "      <td>0.000000</td>\n",
       "      <td>0.339</td>\n",
       "      <td>0.678</td>\n",
       "      <td>123.919</td>\n",
       "      <td>164516</td>\n",
       "    </tr>\n",
       "    <tr>\n",
       "      <th>15</th>\n",
       "      <td>1EJgymgJHcjSOGSHcYaxvW</td>\n",
       "      <td>South of the Border (feat. Camila Cabello &amp; Ca...</td>\n",
       "      <td>Ed Sheeran</td>\n",
       "      <td>66</td>\n",
       "      <td>1imXAvLuowvPYIsFMYUPY0</td>\n",
       "      <td>South of the Border (feat. Camila Cabello &amp; Ca...</td>\n",
       "      <td>2019-12-11</td>\n",
       "      <td>Pop Remix</td>\n",
       "      <td>37i9dQZF1DXcZDD7cfEKhW</td>\n",
       "      <td>pop</td>\n",
       "      <td>...</td>\n",
       "      <td>0</td>\n",
       "      <td>-4.603</td>\n",
       "      <td>1</td>\n",
       "      <td>0.0896</td>\n",
       "      <td>0.13000</td>\n",
       "      <td>0.000005</td>\n",
       "      <td>0.365</td>\n",
       "      <td>0.722</td>\n",
       "      <td>125.028</td>\n",
       "      <td>188230</td>\n",
       "    </tr>\n",
       "    <tr>\n",
       "      <th>20</th>\n",
       "      <td>4QAUGy6k7c3IOAhgWz52r7</td>\n",
       "      <td>Heaven - David Guetta &amp; MORTEN Remix</td>\n",
       "      <td>Avicii</td>\n",
       "      <td>70</td>\n",
       "      <td>37bCTD5iLWMpDcBanNkkXB</td>\n",
       "      <td>Heaven (David Guetta &amp; MORTEN Remix)</td>\n",
       "      <td>2019-08-23</td>\n",
       "      <td>Pop Remix</td>\n",
       "      <td>37i9dQZF1DXcZDD7cfEKhW</td>\n",
       "      <td>pop</td>\n",
       "      <td>...</td>\n",
       "      <td>6</td>\n",
       "      <td>-5.053</td>\n",
       "      <td>0</td>\n",
       "      <td>0.0446</td>\n",
       "      <td>0.00292</td>\n",
       "      <td>0.019800</td>\n",
       "      <td>0.105</td>\n",
       "      <td>0.204</td>\n",
       "      <td>125.948</td>\n",
       "      <td>215238</td>\n",
       "    </tr>\n",
       "  </tbody>\n",
       "</table>\n",
       "<p>5 rows × 23 columns</p>\n",
       "</div>"
      ],
      "text/plain": [
       "                  track_id                                         track_name  \\\n",
       "5   7fvUMiyapMsRRxr07cU8Ef  Beautiful People (feat. Khalid) - Jack Wins Remix   \n",
       "10  3eFJI470ALf1EYjywPRsJy  Cross Me (feat. Chance the Rapper & PnB Rock) ...   \n",
       "13  3eLdNmnRWr9gIyBcqTSSti     SOS - Laidback Luke Tribute Remix / Radio Edit   \n",
       "15  1EJgymgJHcjSOGSHcYaxvW  South of the Border (feat. Camila Cabello & Ca...   \n",
       "20  4QAUGy6k7c3IOAhgWz52r7               Heaven - David Guetta & MORTEN Remix   \n",
       "\n",
       "   track_artist  track_popularity          track_album_id  \\\n",
       "5    Ed Sheeran                67  2yiy9cd2QktrNvWC2EUi0k   \n",
       "10   Ed Sheeran                58  49bXZtlI5kQSqQMSCnSaWO   \n",
       "13       Avicii                68  7Al4TIo0c5twNLfdOh1y1u   \n",
       "15   Ed Sheeran                66  1imXAvLuowvPYIsFMYUPY0   \n",
       "20       Avicii                70  37bCTD5iLWMpDcBanNkkXB   \n",
       "\n",
       "                                     track_album_name  \\\n",
       "5   Beautiful People (feat. Khalid) [Jack Wins Remix]   \n",
       "10  Cross Me (feat. Chance the Rapper & PnB Rock) ...   \n",
       "13                  SOS (Laidback Luke Tribute Remix)   \n",
       "15  South of the Border (feat. Camila Cabello & Ca...   \n",
       "20               Heaven (David Guetta & MORTEN Remix)   \n",
       "\n",
       "   track_album_release_date playlist_name             playlist_id  \\\n",
       "5                2019-07-11     Pop Remix  37i9dQZF1DXcZDD7cfEKhW   \n",
       "10               2019-06-21     Pop Remix  37i9dQZF1DXcZDD7cfEKhW   \n",
       "13               2019-05-17     Pop Remix  37i9dQZF1DXcZDD7cfEKhW   \n",
       "15               2019-12-11     Pop Remix  37i9dQZF1DXcZDD7cfEKhW   \n",
       "20               2019-08-23     Pop Remix  37i9dQZF1DXcZDD7cfEKhW   \n",
       "\n",
       "   playlist_genre  ... key  loudness  mode  speechiness  acousticness  \\\n",
       "5             pop  ...   8    -5.385     1       0.1270       0.07990   \n",
       "10            pop  ...   6    -6.500     1       0.1810       0.14600   \n",
       "13            pop  ...   5    -4.451     0       0.0625       0.01110   \n",
       "15            pop  ...   0    -4.603     1       0.0896       0.13000   \n",
       "20            pop  ...   6    -5.053     0       0.0446       0.00292   \n",
       "\n",
       "    instrumentalness  liveness  valence    tempo  duration_ms  \n",
       "5           0.000000     0.143    0.585  124.982       163049  \n",
       "10          0.000005     0.124    0.752  121.984       207894  \n",
       "13          0.000000     0.339    0.678  123.919       164516  \n",
       "15          0.000005     0.365    0.722  125.028       188230  \n",
       "20          0.019800     0.105    0.204  125.948       215238  \n",
       "\n",
       "[5 rows x 23 columns]"
      ]
     },
     "execution_count": 10,
     "metadata": {},
     "output_type": "execute_result"
    }
   ],
   "source": [
    "Data_artist= Data_artist.drop_duplicates()\n",
    "Data_artist.head(5)"
   ]
  },
  {
   "cell_type": "code",
   "execution_count": 11,
   "id": "d602bdd0",
   "metadata": {},
   "outputs": [
    {
     "data": {
      "text/plain": [
       "(22140, 23)"
      ]
     },
     "execution_count": 11,
     "metadata": {},
     "output_type": "execute_result"
    }
   ],
   "source": [
    "Data_artist.shape"
   ]
  },
  {
   "cell_type": "markdown",
   "id": "844cdccd",
   "metadata": {},
   "source": [
    "The function shape is another way to anlise how many artist in a data set "
   ]
  },
  {
   "cell_type": "markdown",
   "id": "bfbbee53",
   "metadata": {},
   "source": [
    "#### b. In the range analysed, can we deduce there is a unique mode?\n"
   ]
  },
  {
   "cell_type": "markdown",
   "id": "8322f532",
   "metadata": {},
   "source": [
    "In the case of unique mode, we use the function df.mode(). It can locate the strings and give us the result.         \n",
    "According to Summerfield(2010) If there are no modes, the mode line is not printed at all. If there is one mode, the mode list has just one item (mode[0]) which is printed using the same format as is used for the other statistics. If there are several modes, we print them as a list with each one formatted appropriately. This is done by comprehension to produce a list of mode strings, and then joining all the strings in the list together with “, ” in between each one.    "
   ]
  },
  {
   "cell_type": "markdown",
   "id": "7b632ba0",
   "metadata": {},
   "source": [
    "Range is the simplest of the measurements but is very limited in its use, we calculate the range by taking the largest value of the dataset and subtract the smallest value from it, in other words, it is the difference of the maximum and minimum values of a dataset. Information avaiable from their website ( Noble Desktop, 2021 )\n",
    "\n",
    "Following the case analyzed, we are working with a range, which means that the range has a minimum and maximum value in the \"track_artist\" column. Seeing that, e.g., below, we have a mode about all dataset, and they are from qualitative data, these values may vary according to the range analyzed, as we will see below. \n"
   ]
  },
  {
   "cell_type": "code",
   "execution_count": 12,
   "id": "77e39335",
   "metadata": {},
   "outputs": [
    {
     "data": {
      "text/plain": [
       "0    Martin Garrix\n",
       "dtype: object"
      ]
     },
     "execution_count": 12,
     "metadata": {},
     "output_type": "execute_result"
    }
   ],
   "source": [
    "data_spotify[\"track_artist\"].mode()"
   ]
  },
  {
   "cell_type": "markdown",
   "id": "29b87087",
   "metadata": {},
   "source": [
    "As we can see, the data referring to the range analyzed, as they originate from qualitative data, may suffer interference when using the function df.iloc. That we can see below, used according to the previous graph.\n"
   ]
  },
  {
   "cell_type": "code",
   "execution_count": 13,
   "id": "b91444aa",
   "metadata": {},
   "outputs": [
    {
     "data": {
      "text/plain": [
       "0    Ed Sheeran\n",
       "dtype: object"
      ]
     },
     "execution_count": 13,
     "metadata": {},
     "output_type": "execute_result"
    }
   ],
   "source": [
    "\n",
    "data_spotify[\"track_artist\"].iloc[0:10].mode()"
   ]
  },
  {
   "cell_type": "markdown",
   "id": "6899eccb",
   "metadata": {},
   "source": [
    "The variable \"track_artist\" has one mode, and the value is Martin Garrix. The range analized df.ilo[0:10] has a unique mode and the value is Ed Sheeron. "
   ]
  },
  {
   "cell_type": "markdown",
   "id": "ebca1547",
   "metadata": {},
   "source": [
    "#### c. Is it true that in the range analysed the mode has a value of 2? "
   ]
  },
  {
   "cell_type": "code",
   "execution_count": 14,
   "id": "5b3fecdb",
   "metadata": {},
   "outputs": [
    {
     "data": {
      "text/plain": [
       "Martin Garrix        161\n",
       "Queen                136\n",
       "The Chainsmokers     123\n",
       "David Guetta         110\n",
       "Don Omar             102\n",
       "                    ... \n",
       "Haujobb                1\n",
       "Late Night Legacy      1\n",
       "Rhonda Clark           1\n",
       "Magnofield             1\n",
       "Ricky Skaggs           1\n",
       "Name: track_artist, Length: 10692, dtype: int64"
      ]
     },
     "execution_count": 14,
     "metadata": {},
     "output_type": "execute_result"
    }
   ],
   "source": [
    "data_spotify[\"track_artist\"].value_counts()"
   ]
  },
  {
   "cell_type": "code",
   "execution_count": 15,
   "id": "79a81c97",
   "metadata": {},
   "outputs": [
    {
     "data": {
      "text/plain": [
       "Ed Sheeran          2\n",
       "Zara Larsson        1\n",
       "Avicii              1\n",
       "Maroon 5            1\n",
       "Katy Perry          1\n",
       "Sam Feldt           1\n",
       "Lewis Capaldi       1\n",
       "Shawn Mendes        1\n",
       "The Chainsmokers    1\n",
       "Name: track_artist, dtype: int64"
      ]
     },
     "execution_count": 15,
     "metadata": {},
     "output_type": "execute_result"
    }
   ],
   "source": [
    "data_spotify[\"track_artist\"].iloc[0:10].value_counts()"
   ]
  },
  {
   "cell_type": "markdown",
   "id": "f4b8d7b1",
   "metadata": {},
   "source": [
    "Another way to check the mode value is using the function df.value_counts that bring the string which looks with the most frequency. As analyzed in the previous item, the Values are different for the analyzed intervals. Martin Garrix is the result for all \"track_artist,\" and Ed Sheeran became more often using the range [0:10]."
   ]
  },
  {
   "cell_type": "markdown",
   "id": "516b9cd2",
   "metadata": {},
   "source": [
    "#### d. How many data elements there are in the range analysed?"
   ]
  },
  {
   "cell_type": "markdown",
   "id": "bf8c9fc5",
   "metadata": {},
   "source": [
    "Discussing the size from our dataset, we can analyze it in various ways and functions that bring us information. Just to analyze how many data elements we have, the function df.shape can be used. "
   ]
  },
  {
   "cell_type": "code",
   "execution_count": 16,
   "id": "0c5dcde0",
   "metadata": {},
   "outputs": [
    {
     "data": {
      "text/plain": [
       "(32833,)"
      ]
     },
     "execution_count": 16,
     "metadata": {},
     "output_type": "execute_result"
    }
   ],
   "source": [
    "data_spotify[\"track_artist\"].shape"
   ]
  },
  {
   "cell_type": "code",
   "execution_count": 17,
   "id": "d8b8b1a6",
   "metadata": {},
   "outputs": [
    {
     "data": {
      "text/plain": [
       "(10,)"
      ]
     },
     "execution_count": 17,
     "metadata": {},
     "output_type": "execute_result"
    }
   ],
   "source": [
    "data_spotify[\"track_artist\"].iloc[0:10].shape"
   ]
  },
  {
   "cell_type": "markdown",
   "id": "407cc590",
   "metadata": {},
   "source": [
    "As analyzed previously in item a we got that \"track_artist\" and that columns has 32828 entries and the range analyzed from the graph has 10 data elements. "
   ]
  },
  {
   "cell_type": "markdown",
   "id": "41d7e050",
   "metadata": {},
   "source": [
    "### 3. We want to compare the grades between two students that belong to the same class. 60% of the students passed the Stats final exam and the average grade was 65; while 30% of them passed Programming final exam with an average grade of 50. We also know that the total number of students in the class is 48, and we compute the standard deviation of each exam result: \n",
    "#### S(statistics) = 26.84; S(programming) = 30.11\n",
    "#### If student A got 70/100 in Statistics and student B got 70/100 in Programming, which student did perform better? Justify your answer."
   ]
  },
  {
   "cell_type": "markdown",
   "id": "737a67d6",
   "metadata": {},
   "source": [
    "To prepare this answer, we have pondered on comparing the raw scores for both cases. We have the following data. \n",
    "\n",
    "How does it? The first step is to put both cases in the same scale. Putting in the same proportionality, e.g., Standardize them. \n",
    "\n",
    "Following this step, we have to use the Z-score. \n",
    "\n",
    "In the response (McLeod, 2019) A z-score describes the position of a raw score in terms of its distance from the mean, when measured in standard deviation units. The z-score is positive if the value lies above the mean, and negative if it lies below the mean. \n",
    "\n",
    "The formula to calculate:\n",
    "    \n",
    "    Z = X - μ / σ\n",
    "    \n",
    "X = raw score                                            \n",
    "μ = the Mean                                             \n",
    "σ= the Standart Deviation\n",
    "\n",
    "implementing the applicability of the values ​​provided in the question, we will have the following events:\n",
    "\n",
    "\n",
    "###### Stats                                \n",
    "Zs = ( 70 - 65 ) / 26.84  =  0,186\n",
    "\n",
    "###### Programming                                                   \n",
    "Zp = (70 - 50 ) / 30.11  =  0,66\n",
    "\n",
    "With this values using the Z-table whe can check that the value corresponding to each Z-score in the Z-table is :\n",
    "\n",
    "Stats = y axis (0,1) and X axis (,08) = ,5714\n",
    "Programing = y axis ( 0,6) and X axis ( ,06) = ,7454\n",
    "\n",
    "when we get the result in population probability then we said that 57% of Stats score and 74% Programing score. Then in that case with the same raw score the student B performed better than student A.  "
   ]
  },
  {
   "cell_type": "markdown",
   "id": "04bd9d60",
   "metadata": {},
   "source": [
    "## Third sections: Descriptive stats & Dataset (70 marks)"
   ]
  },
  {
   "cell_type": "markdown",
   "id": "1e22604f",
   "metadata": {},
   "source": [
    "### 4. Pick a data set of your interest and upload it to your notebook. Add a small brief about that data set, including the reason you picked this dataset and the variables dictionary.\n"
   ]
  },
  {
   "cell_type": "markdown",
   "id": "048ef25c",
   "metadata": {},
   "source": [
    "My file was searched on the Kaggle website and selected using a very common theme. We can observe that currently, we remain interconnected with the internet and its advantages in several ways. We have large companies increasingly dominating the use of data and the internet. To obtain products and files, we make them in the form of Downloads. So I chose the Microsoft Windows Store to check out some info and develop the Third Section and Describe stats.\n",
    "\n",
    "Filename : Windows Store;\n",
    "\n",
    "In the response (Rao, 2021)This dataset is the data of the apps that are present in the Microsoft Windows Store, The data contains Name, Rating ,Category , Date and Price of the apps.\n",
    "\n",
    "\n"
   ]
  },
  {
   "cell_type": "code",
   "execution_count": 18,
   "id": "f6f05412",
   "metadata": {},
   "outputs": [],
   "source": [
    "import numpy as np\n",
    "import pandas as pd\n",
    "import seaborn as sns"
   ]
  },
  {
   "cell_type": "markdown",
   "id": "6eaef301",
   "metadata": {},
   "source": [
    "We use a function to introduce libraries that had been created before to recognize the process and work in the data set. This way, we don´t need to create a function in our data set. Just introduce them and fill information to get the results. In Jupyter notebook, we contain live code, equations, visualizations and narrative text used by libraries that have a lot of function that specialists developed,\n",
    "One of it is starting input the libraries tht we will use You can use pandas read_csv() function to import data\n",
    "\n",
    "\n",
    "Import is a function for getting some existent resources on a different function´s Libraries. Then you can apply as a name to work on your Dataset any functions and execute it. \n",
    "\n",
    "E.g. Numpy ( Numerical manipulations ) / Pandas ( Control data frames and Files ) / Seaborn ( Visualizations ) "
   ]
  },
  {
   "cell_type": "code",
   "execution_count": 19,
   "id": "7a6ed9ac",
   "metadata": {},
   "outputs": [],
   "source": [
    "microsoft_store= pd.read_csv(\"msft.csv\")"
   ]
  },
  {
   "cell_type": "markdown",
   "id": "b084d092",
   "metadata": {},
   "source": [
    "For use it and create a data frame object to get all the information in a variable that you create, Then you can create annother data frame to get more information or another data set, but you have to create it with another name. \"microsoft_store\" is the new variable and we can see the data set in the next steps."
   ]
  },
  {
   "cell_type": "markdown",
   "id": "dd7398fc",
   "metadata": {},
   "source": [
    "### 5. Using appropriate Python code show relevant information about the data set selected.\n"
   ]
  },
  {
   "cell_type": "markdown",
   "id": "1bcf6253",
   "metadata": {},
   "source": [
    "Printing the Dataset to get information"
   ]
  },
  {
   "cell_type": "code",
   "execution_count": 20,
   "id": "7272c643",
   "metadata": {},
   "outputs": [
    {
     "data": {
      "text/html": [
       "<div>\n",
       "<style scoped>\n",
       "    .dataframe tbody tr th:only-of-type {\n",
       "        vertical-align: middle;\n",
       "    }\n",
       "\n",
       "    .dataframe tbody tr th {\n",
       "        vertical-align: top;\n",
       "    }\n",
       "\n",
       "    .dataframe thead th {\n",
       "        text-align: right;\n",
       "    }\n",
       "</style>\n",
       "<table border=\"1\" class=\"dataframe\">\n",
       "  <thead>\n",
       "    <tr style=\"text-align: right;\">\n",
       "      <th></th>\n",
       "      <th>Name</th>\n",
       "      <th>Rating</th>\n",
       "      <th>No of people Rated</th>\n",
       "      <th>Category</th>\n",
       "      <th>Date</th>\n",
       "      <th>Price</th>\n",
       "    </tr>\n",
       "  </thead>\n",
       "  <tbody>\n",
       "    <tr>\n",
       "      <th>0</th>\n",
       "      <td>Dynamic Reader</td>\n",
       "      <td>3.5</td>\n",
       "      <td>268</td>\n",
       "      <td>Books</td>\n",
       "      <td>07-01-2014</td>\n",
       "      <td>Free</td>\n",
       "    </tr>\n",
       "    <tr>\n",
       "      <th>1</th>\n",
       "      <td>Chemistry, Organic Chemistry and Biochemistry-...</td>\n",
       "      <td>3.0</td>\n",
       "      <td>627</td>\n",
       "      <td>Books</td>\n",
       "      <td>08-01-2014</td>\n",
       "      <td>Free</td>\n",
       "    </tr>\n",
       "    <tr>\n",
       "      <th>2</th>\n",
       "      <td>BookViewer</td>\n",
       "      <td>3.5</td>\n",
       "      <td>593</td>\n",
       "      <td>Books</td>\n",
       "      <td>29-02-2016</td>\n",
       "      <td>Free</td>\n",
       "    </tr>\n",
       "    <tr>\n",
       "      <th>3</th>\n",
       "      <td>Brick Instructions</td>\n",
       "      <td>3.5</td>\n",
       "      <td>684</td>\n",
       "      <td>Books</td>\n",
       "      <td>30-01-2018</td>\n",
       "      <td>Free</td>\n",
       "    </tr>\n",
       "    <tr>\n",
       "      <th>4</th>\n",
       "      <td>Introduction to Python Programming by GoLearni...</td>\n",
       "      <td>2.0</td>\n",
       "      <td>634</td>\n",
       "      <td>Books</td>\n",
       "      <td>30-01-2018</td>\n",
       "      <td>Free</td>\n",
       "    </tr>\n",
       "    <tr>\n",
       "      <th>...</th>\n",
       "      <td>...</td>\n",
       "      <td>...</td>\n",
       "      <td>...</td>\n",
       "      <td>...</td>\n",
       "      <td>...</td>\n",
       "      <td>...</td>\n",
       "    </tr>\n",
       "    <tr>\n",
       "      <th>5317</th>\n",
       "      <td>JS King</td>\n",
       "      <td>1.0</td>\n",
       "      <td>720</td>\n",
       "      <td>Developer Tools</td>\n",
       "      <td>19-07-2018</td>\n",
       "      <td>₹ 269.00</td>\n",
       "    </tr>\n",
       "    <tr>\n",
       "      <th>5318</th>\n",
       "      <td>MQTTSniffer</td>\n",
       "      <td>2.5</td>\n",
       "      <td>500</td>\n",
       "      <td>Developer Tools</td>\n",
       "      <td>10-04-2017</td>\n",
       "      <td>₹ 64.00</td>\n",
       "    </tr>\n",
       "    <tr>\n",
       "      <th>5319</th>\n",
       "      <td>Dev Utils - JSON, CSV and XML</td>\n",
       "      <td>4.0</td>\n",
       "      <td>862</td>\n",
       "      <td>Developer Tools</td>\n",
       "      <td>18-11-2019</td>\n",
       "      <td>₹ 269.00</td>\n",
       "    </tr>\n",
       "    <tr>\n",
       "      <th>5320</th>\n",
       "      <td>Simply Text</td>\n",
       "      <td>4.0</td>\n",
       "      <td>386</td>\n",
       "      <td>Developer Tools</td>\n",
       "      <td>23-01-2014</td>\n",
       "      <td>₹ 219.00</td>\n",
       "    </tr>\n",
       "    <tr>\n",
       "      <th>5321</th>\n",
       "      <td>NaN</td>\n",
       "      <td>NaN</td>\n",
       "      <td>948</td>\n",
       "      <td>NaN</td>\n",
       "      <td>NaN</td>\n",
       "      <td>NaN</td>\n",
       "    </tr>\n",
       "  </tbody>\n",
       "</table>\n",
       "<p>5322 rows × 6 columns</p>\n",
       "</div>"
      ],
      "text/plain": [
       "                                                   Name  Rating  \\\n",
       "0                                        Dynamic Reader     3.5   \n",
       "1     Chemistry, Organic Chemistry and Biochemistry-...     3.0   \n",
       "2                                            BookViewer     3.5   \n",
       "3                                    Brick Instructions     3.5   \n",
       "4     Introduction to Python Programming by GoLearni...     2.0   \n",
       "...                                                 ...     ...   \n",
       "5317                                            JS King     1.0   \n",
       "5318                                        MQTTSniffer     2.5   \n",
       "5319                      Dev Utils - JSON, CSV and XML     4.0   \n",
       "5320                                        Simply Text     4.0   \n",
       "5321                                                NaN     NaN   \n",
       "\n",
       "      No of people Rated         Category        Date     Price  \n",
       "0                    268            Books  07-01-2014      Free  \n",
       "1                    627            Books  08-01-2014      Free  \n",
       "2                    593            Books  29-02-2016      Free  \n",
       "3                    684            Books  30-01-2018      Free  \n",
       "4                    634            Books  30-01-2018      Free  \n",
       "...                  ...              ...         ...       ...  \n",
       "5317                 720  Developer Tools  19-07-2018  ₹ 269.00  \n",
       "5318                 500  Developer Tools  10-04-2017   ₹ 64.00  \n",
       "5319                 862  Developer Tools  18-11-2019  ₹ 269.00  \n",
       "5320                 386  Developer Tools  23-01-2014  ₹ 219.00  \n",
       "5321                 948              NaN         NaN       NaN  \n",
       "\n",
       "[5322 rows x 6 columns]"
      ]
     },
     "execution_count": 20,
     "metadata": {},
     "output_type": "execute_result"
    }
   ],
   "source": [
    "microsoft_store"
   ]
  },
  {
   "cell_type": "markdown",
   "id": "1fbf0e00",
   "metadata": {},
   "source": [
    "Decribing informations:\n",
    "\n",
    "#### Columns\n",
    "Total of 6 Columns   \n",
    "Name: Name of the app.\n",
    "Rating: Rating for the app.\n",
    "No of People Rated : No of people who rated the app.\n",
    "Category : Category of the app.\n",
    "Date. : Date when it is posted.\n",
    "Price. : Price of the app.\n",
    "    \n",
    "    \n",
    "#### Rows\n",
    "5322 rows"
   ]
  },
  {
   "cell_type": "code",
   "execution_count": 21,
   "id": "21029954",
   "metadata": {},
   "outputs": [
    {
     "data": {
      "text/html": [
       "<div>\n",
       "<style scoped>\n",
       "    .dataframe tbody tr th:only-of-type {\n",
       "        vertical-align: middle;\n",
       "    }\n",
       "\n",
       "    .dataframe tbody tr th {\n",
       "        vertical-align: top;\n",
       "    }\n",
       "\n",
       "    .dataframe thead th {\n",
       "        text-align: right;\n",
       "    }\n",
       "</style>\n",
       "<table border=\"1\" class=\"dataframe\">\n",
       "  <thead>\n",
       "    <tr style=\"text-align: right;\">\n",
       "      <th></th>\n",
       "      <th>Name</th>\n",
       "      <th>Rating</th>\n",
       "      <th>No of people Rated</th>\n",
       "      <th>Category</th>\n",
       "      <th>Date</th>\n",
       "      <th>Price</th>\n",
       "    </tr>\n",
       "  </thead>\n",
       "  <tbody>\n",
       "    <tr>\n",
       "      <th>0</th>\n",
       "      <td>Dynamic Reader</td>\n",
       "      <td>3.5</td>\n",
       "      <td>268</td>\n",
       "      <td>Books</td>\n",
       "      <td>07-01-2014</td>\n",
       "      <td>Free</td>\n",
       "    </tr>\n",
       "    <tr>\n",
       "      <th>1</th>\n",
       "      <td>Chemistry, Organic Chemistry and Biochemistry-...</td>\n",
       "      <td>3.0</td>\n",
       "      <td>627</td>\n",
       "      <td>Books</td>\n",
       "      <td>08-01-2014</td>\n",
       "      <td>Free</td>\n",
       "    </tr>\n",
       "    <tr>\n",
       "      <th>2</th>\n",
       "      <td>BookViewer</td>\n",
       "      <td>3.5</td>\n",
       "      <td>593</td>\n",
       "      <td>Books</td>\n",
       "      <td>29-02-2016</td>\n",
       "      <td>Free</td>\n",
       "    </tr>\n",
       "    <tr>\n",
       "      <th>3</th>\n",
       "      <td>Brick Instructions</td>\n",
       "      <td>3.5</td>\n",
       "      <td>684</td>\n",
       "      <td>Books</td>\n",
       "      <td>30-01-2018</td>\n",
       "      <td>Free</td>\n",
       "    </tr>\n",
       "    <tr>\n",
       "      <th>4</th>\n",
       "      <td>Introduction to Python Programming by GoLearni...</td>\n",
       "      <td>2.0</td>\n",
       "      <td>634</td>\n",
       "      <td>Books</td>\n",
       "      <td>30-01-2018</td>\n",
       "      <td>Free</td>\n",
       "    </tr>\n",
       "  </tbody>\n",
       "</table>\n",
       "</div>"
      ],
      "text/plain": [
       "                                                Name  Rating  \\\n",
       "0                                     Dynamic Reader     3.5   \n",
       "1  Chemistry, Organic Chemistry and Biochemistry-...     3.0   \n",
       "2                                         BookViewer     3.5   \n",
       "3                                 Brick Instructions     3.5   \n",
       "4  Introduction to Python Programming by GoLearni...     2.0   \n",
       "\n",
       "   No of people Rated Category        Date Price  \n",
       "0                 268    Books  07-01-2014  Free  \n",
       "1                 627    Books  08-01-2014  Free  \n",
       "2                 593    Books  29-02-2016  Free  \n",
       "3                 684    Books  30-01-2018  Free  \n",
       "4                 634    Books  30-01-2018  Free  "
      ]
     },
     "execution_count": 21,
     "metadata": {},
     "output_type": "execute_result"
    }
   ],
   "source": [
    "microsoft_store.head()"
   ]
  },
  {
   "cell_type": "markdown",
   "id": "28086f3b",
   "metadata": {},
   "source": [
    "The head() function, shows by default the first 5 entries in our dataset. We can change the argument of the function, and that allows us to see more rows in our dataset. \n",
    "\n",
    "\"This function returns the first n rows for the object based on position. It is useful for quickly testing if your object has the right type of data in it.\" (Pandas ,2021) "
   ]
  },
  {
   "cell_type": "code",
   "execution_count": 22,
   "id": "b48757be",
   "metadata": {},
   "outputs": [
    {
     "name": "stdout",
     "output_type": "stream",
     "text": [
      "<class 'pandas.core.frame.DataFrame'>\n",
      "RangeIndex: 5322 entries, 0 to 5321\n",
      "Data columns (total 6 columns):\n",
      " #   Column              Non-Null Count  Dtype  \n",
      "---  ------              --------------  -----  \n",
      " 0   Name                5321 non-null   object \n",
      " 1   Rating              5321 non-null   float64\n",
      " 2   No of people Rated  5322 non-null   int64  \n",
      " 3   Category            5321 non-null   object \n",
      " 4   Date                5321 non-null   object \n",
      " 5   Price               5321 non-null   object \n",
      "dtypes: float64(1), int64(1), object(4)\n",
      "memory usage: 249.6+ KB\n"
     ]
    }
   ],
   "source": [
    "microsoft_store.info()"
   ]
  },
  {
   "cell_type": "code",
   "execution_count": 23,
   "id": "e226075b",
   "metadata": {},
   "outputs": [
    {
     "data": {
      "text/plain": [
       "(5322, 6)"
      ]
     },
     "execution_count": 23,
     "metadata": {},
     "output_type": "execute_result"
    }
   ],
   "source": [
    "microsoft_store.shape"
   ]
  },
  {
   "cell_type": "markdown",
   "id": "a7ffe2c2",
   "metadata": {},
   "source": [
    "Another function to understand more information about the data is df.info().\n",
    "In the microsoft_store, we get the total columns/variables, data type (if the variable is quantitative/qualitative), missing values (we can check the quantity of non-null), dataset size, Memory usage, and dtypes. It is possible to analyze that this dataset has mixed Dtypes( Object, float64, and int64) that influence our study in the next steps. \n",
    "\n",
    "\n",
    "To develop the statistical study and analyze the data, we will analyze some changes in the spreadsheet by creating new variables. In micro_table, we are removing columns that don't seem relevant to our analysis at the moment, and they are \"Date\" (date that includes a \"rating\") and Number of people rated (which at the moment may be relevant in other analyses, such as Feedback and prediction)"
   ]
  },
  {
   "cell_type": "code",
   "execution_count": 24,
   "id": "30b5b581",
   "metadata": {},
   "outputs": [
    {
     "data": {
      "text/html": [
       "<div>\n",
       "<style scoped>\n",
       "    .dataframe tbody tr th:only-of-type {\n",
       "        vertical-align: middle;\n",
       "    }\n",
       "\n",
       "    .dataframe tbody tr th {\n",
       "        vertical-align: top;\n",
       "    }\n",
       "\n",
       "    .dataframe thead th {\n",
       "        text-align: right;\n",
       "    }\n",
       "</style>\n",
       "<table border=\"1\" class=\"dataframe\">\n",
       "  <thead>\n",
       "    <tr style=\"text-align: right;\">\n",
       "      <th></th>\n",
       "      <th>Name</th>\n",
       "      <th>Rating</th>\n",
       "      <th>Category</th>\n",
       "      <th>Price</th>\n",
       "    </tr>\n",
       "  </thead>\n",
       "  <tbody>\n",
       "    <tr>\n",
       "      <th>0</th>\n",
       "      <td>Dynamic Reader</td>\n",
       "      <td>3.5</td>\n",
       "      <td>Books</td>\n",
       "      <td>Free</td>\n",
       "    </tr>\n",
       "    <tr>\n",
       "      <th>1</th>\n",
       "      <td>Chemistry, Organic Chemistry and Biochemistry-...</td>\n",
       "      <td>3.0</td>\n",
       "      <td>Books</td>\n",
       "      <td>Free</td>\n",
       "    </tr>\n",
       "    <tr>\n",
       "      <th>2</th>\n",
       "      <td>BookViewer</td>\n",
       "      <td>3.5</td>\n",
       "      <td>Books</td>\n",
       "      <td>Free</td>\n",
       "    </tr>\n",
       "    <tr>\n",
       "      <th>3</th>\n",
       "      <td>Brick Instructions</td>\n",
       "      <td>3.5</td>\n",
       "      <td>Books</td>\n",
       "      <td>Free</td>\n",
       "    </tr>\n",
       "    <tr>\n",
       "      <th>4</th>\n",
       "      <td>Introduction to Python Programming by GoLearni...</td>\n",
       "      <td>2.0</td>\n",
       "      <td>Books</td>\n",
       "      <td>Free</td>\n",
       "    </tr>\n",
       "  </tbody>\n",
       "</table>\n",
       "</div>"
      ],
      "text/plain": [
       "                                                Name  Rating Category Price\n",
       "0                                     Dynamic Reader     3.5    Books  Free\n",
       "1  Chemistry, Organic Chemistry and Biochemistry-...     3.0    Books  Free\n",
       "2                                         BookViewer     3.5    Books  Free\n",
       "3                                 Brick Instructions     3.5    Books  Free\n",
       "4  Introduction to Python Programming by GoLearni...     2.0    Books  Free"
      ]
     },
     "execution_count": 24,
     "metadata": {},
     "output_type": "execute_result"
    }
   ],
   "source": [
    "microtable = microsoft_store.drop([\"Date\",\"No of people Rated\"], axis=1)\n",
    "microtable.head(5)"
   ]
  },
  {
   "cell_type": "markdown",
   "id": "f9038495",
   "metadata": {},
   "source": [
    "Concentrating and organizing the data, I noticed that the price variable contains values and numbers in the column, characterizing itself as an object. To accurately analyze the values, we will transform them into quantitative data to better interpret our study. "
   ]
  },
  {
   "cell_type": "code",
   "execution_count": 25,
   "id": "1d4b781e",
   "metadata": {
    "scrolled": true
   },
   "outputs": [],
   "source": [
    "microtable['Price'] = microsoft_store['Price'].str.replace('₹', '').str.replace('Free','00').str.replace(',','')\n"
   ]
  },
  {
   "cell_type": "code",
   "execution_count": 26,
   "id": "b5d24946",
   "metadata": {},
   "outputs": [
    {
     "data": {
      "text/html": [
       "<div>\n",
       "<style scoped>\n",
       "    .dataframe tbody tr th:only-of-type {\n",
       "        vertical-align: middle;\n",
       "    }\n",
       "\n",
       "    .dataframe tbody tr th {\n",
       "        vertical-align: top;\n",
       "    }\n",
       "\n",
       "    .dataframe thead th {\n",
       "        text-align: right;\n",
       "    }\n",
       "</style>\n",
       "<table border=\"1\" class=\"dataframe\">\n",
       "  <thead>\n",
       "    <tr style=\"text-align: right;\">\n",
       "      <th></th>\n",
       "      <th>Name</th>\n",
       "      <th>Rating</th>\n",
       "      <th>Category</th>\n",
       "      <th>Price</th>\n",
       "    </tr>\n",
       "  </thead>\n",
       "  <tbody>\n",
       "    <tr>\n",
       "      <th>0</th>\n",
       "      <td>Dynamic Reader</td>\n",
       "      <td>3.5</td>\n",
       "      <td>Books</td>\n",
       "      <td>00</td>\n",
       "    </tr>\n",
       "    <tr>\n",
       "      <th>1</th>\n",
       "      <td>Chemistry, Organic Chemistry and Biochemistry-...</td>\n",
       "      <td>3.0</td>\n",
       "      <td>Books</td>\n",
       "      <td>00</td>\n",
       "    </tr>\n",
       "    <tr>\n",
       "      <th>2</th>\n",
       "      <td>BookViewer</td>\n",
       "      <td>3.5</td>\n",
       "      <td>Books</td>\n",
       "      <td>00</td>\n",
       "    </tr>\n",
       "    <tr>\n",
       "      <th>3</th>\n",
       "      <td>Brick Instructions</td>\n",
       "      <td>3.5</td>\n",
       "      <td>Books</td>\n",
       "      <td>00</td>\n",
       "    </tr>\n",
       "    <tr>\n",
       "      <th>4</th>\n",
       "      <td>Introduction to Python Programming by GoLearni...</td>\n",
       "      <td>2.0</td>\n",
       "      <td>Books</td>\n",
       "      <td>00</td>\n",
       "    </tr>\n",
       "    <tr>\n",
       "      <th>...</th>\n",
       "      <td>...</td>\n",
       "      <td>...</td>\n",
       "      <td>...</td>\n",
       "      <td>...</td>\n",
       "    </tr>\n",
       "    <tr>\n",
       "      <th>5312</th>\n",
       "      <td>Assets Resizer for Windows Store</td>\n",
       "      <td>3.5</td>\n",
       "      <td>Developer Tools</td>\n",
       "      <td>54.00</td>\n",
       "    </tr>\n",
       "    <tr>\n",
       "      <th>5313</th>\n",
       "      <td>WWWmaster</td>\n",
       "      <td>3.5</td>\n",
       "      <td>Developer Tools</td>\n",
       "      <td>489.00</td>\n",
       "    </tr>\n",
       "    <tr>\n",
       "      <th>5314</th>\n",
       "      <td>HexToolkit</td>\n",
       "      <td>3.5</td>\n",
       "      <td>Developer Tools</td>\n",
       "      <td>54.00</td>\n",
       "    </tr>\n",
       "    <tr>\n",
       "      <th>5315</th>\n",
       "      <td>Visual Studio Image Scaler</td>\n",
       "      <td>1.0</td>\n",
       "      <td>Developer Tools</td>\n",
       "      <td>54.00</td>\n",
       "    </tr>\n",
       "    <tr>\n",
       "      <th>5316</th>\n",
       "      <td>Get Color</td>\n",
       "      <td>3.0</td>\n",
       "      <td>Developer Tools</td>\n",
       "      <td>54.50</td>\n",
       "    </tr>\n",
       "  </tbody>\n",
       "</table>\n",
       "<p>5317 rows × 4 columns</p>\n",
       "</div>"
      ],
      "text/plain": [
       "                                                   Name  Rating  \\\n",
       "0                                        Dynamic Reader     3.5   \n",
       "1     Chemistry, Organic Chemistry and Biochemistry-...     3.0   \n",
       "2                                            BookViewer     3.5   \n",
       "3                                    Brick Instructions     3.5   \n",
       "4     Introduction to Python Programming by GoLearni...     2.0   \n",
       "...                                                 ...     ...   \n",
       "5312                   Assets Resizer for Windows Store     3.5   \n",
       "5313                                          WWWmaster     3.5   \n",
       "5314                                         HexToolkit     3.5   \n",
       "5315                         Visual Studio Image Scaler     1.0   \n",
       "5316                                          Get Color     3.0   \n",
       "\n",
       "             Category    Price  \n",
       "0               Books       00  \n",
       "1               Books       00  \n",
       "2               Books       00  \n",
       "3               Books       00  \n",
       "4               Books       00  \n",
       "...               ...      ...  \n",
       "5312  Developer Tools    54.00  \n",
       "5313  Developer Tools   489.00  \n",
       "5314  Developer Tools    54.00  \n",
       "5315  Developer Tools    54.00  \n",
       "5316  Developer Tools    54.50  \n",
       "\n",
       "[5317 rows x 4 columns]"
      ]
     },
     "execution_count": 26,
     "metadata": {},
     "output_type": "execute_result"
    }
   ],
   "source": [
    "microtable.head(-5)"
   ]
  },
  {
   "cell_type": "markdown",
   "id": "0a13a7d9",
   "metadata": {},
   "source": [
    "After changing the value and removing symbols we can check if the microtable variable has any missing or NuN value:"
   ]
  },
  {
   "cell_type": "code",
   "execution_count": 27,
   "id": "8b57ab36",
   "metadata": {},
   "outputs": [
    {
     "name": "stdout",
     "output_type": "stream",
     "text": [
      "Name        1\n",
      "Rating      1\n",
      "Category    1\n",
      "Price       1\n",
      "dtype: int64\n"
     ]
    }
   ],
   "source": [
    "print(microtable.isnull().sum()) \n"
   ]
  },
  {
   "cell_type": "code",
   "execution_count": 28,
   "id": "5a03187f",
   "metadata": {},
   "outputs": [
    {
     "data": {
      "text/plain": [
       "Name        5321\n",
       "Rating      5321\n",
       "Category    5321\n",
       "Price       5321\n",
       "dtype: int64"
      ]
     },
     "execution_count": 28,
     "metadata": {},
     "output_type": "execute_result"
    }
   ],
   "source": [
    "microtables = microtable.dropna()\n",
    "microtables.count() "
   ]
  },
  {
   "cell_type": "code",
   "execution_count": 29,
   "id": "c38382a3",
   "metadata": {},
   "outputs": [
    {
     "name": "stdout",
     "output_type": "stream",
     "text": [
      "                                                   Name  Rating  \\\n",
      "0                                        Dynamic Reader     3.5   \n",
      "1     Chemistry, Organic Chemistry and Biochemistry-...     3.0   \n",
      "2                                            BookViewer     3.5   \n",
      "3                                    Brick Instructions     3.5   \n",
      "4     Introduction to Python Programming by GoLearni...     2.0   \n",
      "...                                                 ...     ...   \n",
      "5317                                            JS King     1.0   \n",
      "5318                                        MQTTSniffer     2.5   \n",
      "5319                      Dev Utils - JSON, CSV and XML     4.0   \n",
      "5320                                        Simply Text     4.0   \n",
      "5321                                                NaN     NaN   \n",
      "\n",
      "             Category    Price  \n",
      "0               Books       00  \n",
      "1               Books       00  \n",
      "2               Books       00  \n",
      "3               Books       00  \n",
      "4               Books       00  \n",
      "...               ...      ...  \n",
      "5317  Developer Tools   269.00  \n",
      "5318  Developer Tools    64.00  \n",
      "5319  Developer Tools   269.00  \n",
      "5320  Developer Tools   219.00  \n",
      "5321              NaN      NaN  \n",
      "\n",
      "[5322 rows x 4 columns]\n"
     ]
    }
   ],
   "source": [
    "null_filter = microtables.notnull()\n",
    "print(microtable) "
   ]
  },
  {
   "cell_type": "markdown",
   "id": "8fec5ef3",
   "metadata": {},
   "source": [
    "Removing missing values with function df.dropna and transforming to_numeric the column \"Price\":\n"
   ]
  },
  {
   "cell_type": "code",
   "execution_count": 30,
   "id": "52abd884",
   "metadata": {},
   "outputs": [
    {
     "name": "stderr",
     "output_type": "stream",
     "text": [
      "<ipython-input-30-72190b90aa80>:1: SettingWithCopyWarning: \n",
      "A value is trying to be set on a copy of a slice from a DataFrame\n",
      "\n",
      "See the caveats in the documentation: https://pandas.pydata.org/pandas-docs/stable/user_guide/indexing.html#returning-a-view-versus-a-copy\n",
      "  microtables.dropna(axis=0,inplace=True)\n"
     ]
    }
   ],
   "source": [
    "microtables.dropna(axis=0,inplace=True)\n"
   ]
  },
  {
   "cell_type": "code",
   "execution_count": 31,
   "id": "13e791d9",
   "metadata": {},
   "outputs": [
    {
     "name": "stderr",
     "output_type": "stream",
     "text": [
      "<ipython-input-31-defc8161ae36>:1: SettingWithCopyWarning: \n",
      "A value is trying to be set on a copy of a slice from a DataFrame.\n",
      "Try using .loc[row_indexer,col_indexer] = value instead\n",
      "\n",
      "See the caveats in the documentation: https://pandas.pydata.org/pandas-docs/stable/user_guide/indexing.html#returning-a-view-versus-a-copy\n",
      "  microtables['Price'] = pd.to_numeric(microtable['Price'], errors='coerce')\n"
     ]
    }
   ],
   "source": [
    "microtables['Price'] = pd.to_numeric(microtable['Price'], errors='coerce')"
   ]
  },
  {
   "cell_type": "code",
   "execution_count": 32,
   "id": "606d907c",
   "metadata": {},
   "outputs": [
    {
     "name": "stdout",
     "output_type": "stream",
     "text": [
      "<class 'pandas.core.frame.DataFrame'>\n",
      "Int64Index: 5321 entries, 0 to 5320\n",
      "Data columns (total 4 columns):\n",
      " #   Column    Non-Null Count  Dtype  \n",
      "---  ------    --------------  -----  \n",
      " 0   Name      5321 non-null   object \n",
      " 1   Rating    5321 non-null   float64\n",
      " 2   Category  5321 non-null   object \n",
      " 3   Price     5321 non-null   float64\n",
      "dtypes: float64(2), object(2)\n",
      "memory usage: 207.9+ KB\n"
     ]
    }
   ],
   "source": [
    "microtables.info()"
   ]
  },
  {
   "cell_type": "markdown",
   "id": "3664088f",
   "metadata": {},
   "source": [
    "Confirming that the function change the Dtype in the Column \"Price\" to a numbers ( Float64 ) as we can sse below, no symbols and all data are numbers (Qualitative datas)"
   ]
  },
  {
   "cell_type": "code",
   "execution_count": 33,
   "id": "87ee5c1d",
   "metadata": {},
   "outputs": [
    {
     "data": {
      "text/html": [
       "<div>\n",
       "<style scoped>\n",
       "    .dataframe tbody tr th:only-of-type {\n",
       "        vertical-align: middle;\n",
       "    }\n",
       "\n",
       "    .dataframe tbody tr th {\n",
       "        vertical-align: top;\n",
       "    }\n",
       "\n",
       "    .dataframe thead th {\n",
       "        text-align: right;\n",
       "    }\n",
       "</style>\n",
       "<table border=\"1\" class=\"dataframe\">\n",
       "  <thead>\n",
       "    <tr style=\"text-align: right;\">\n",
       "      <th></th>\n",
       "      <th>Name</th>\n",
       "      <th>Rating</th>\n",
       "      <th>Category</th>\n",
       "      <th>Price</th>\n",
       "    </tr>\n",
       "  </thead>\n",
       "  <tbody>\n",
       "    <tr>\n",
       "      <th>0</th>\n",
       "      <td>Dynamic Reader</td>\n",
       "      <td>3.5</td>\n",
       "      <td>Books</td>\n",
       "      <td>0.0</td>\n",
       "    </tr>\n",
       "    <tr>\n",
       "      <th>1</th>\n",
       "      <td>Chemistry, Organic Chemistry and Biochemistry-...</td>\n",
       "      <td>3.0</td>\n",
       "      <td>Books</td>\n",
       "      <td>0.0</td>\n",
       "    </tr>\n",
       "    <tr>\n",
       "      <th>2</th>\n",
       "      <td>BookViewer</td>\n",
       "      <td>3.5</td>\n",
       "      <td>Books</td>\n",
       "      <td>0.0</td>\n",
       "    </tr>\n",
       "    <tr>\n",
       "      <th>3</th>\n",
       "      <td>Brick Instructions</td>\n",
       "      <td>3.5</td>\n",
       "      <td>Books</td>\n",
       "      <td>0.0</td>\n",
       "    </tr>\n",
       "    <tr>\n",
       "      <th>4</th>\n",
       "      <td>Introduction to Python Programming by GoLearni...</td>\n",
       "      <td>2.0</td>\n",
       "      <td>Books</td>\n",
       "      <td>0.0</td>\n",
       "    </tr>\n",
       "    <tr>\n",
       "      <th>...</th>\n",
       "      <td>...</td>\n",
       "      <td>...</td>\n",
       "      <td>...</td>\n",
       "      <td>...</td>\n",
       "    </tr>\n",
       "    <tr>\n",
       "      <th>5316</th>\n",
       "      <td>Get Color</td>\n",
       "      <td>3.0</td>\n",
       "      <td>Developer Tools</td>\n",
       "      <td>54.5</td>\n",
       "    </tr>\n",
       "    <tr>\n",
       "      <th>5317</th>\n",
       "      <td>JS King</td>\n",
       "      <td>1.0</td>\n",
       "      <td>Developer Tools</td>\n",
       "      <td>269.0</td>\n",
       "    </tr>\n",
       "    <tr>\n",
       "      <th>5318</th>\n",
       "      <td>MQTTSniffer</td>\n",
       "      <td>2.5</td>\n",
       "      <td>Developer Tools</td>\n",
       "      <td>64.0</td>\n",
       "    </tr>\n",
       "    <tr>\n",
       "      <th>5319</th>\n",
       "      <td>Dev Utils - JSON, CSV and XML</td>\n",
       "      <td>4.0</td>\n",
       "      <td>Developer Tools</td>\n",
       "      <td>269.0</td>\n",
       "    </tr>\n",
       "    <tr>\n",
       "      <th>5320</th>\n",
       "      <td>Simply Text</td>\n",
       "      <td>4.0</td>\n",
       "      <td>Developer Tools</td>\n",
       "      <td>219.0</td>\n",
       "    </tr>\n",
       "  </tbody>\n",
       "</table>\n",
       "<p>5321 rows × 4 columns</p>\n",
       "</div>"
      ],
      "text/plain": [
       "                                                   Name  Rating  \\\n",
       "0                                        Dynamic Reader     3.5   \n",
       "1     Chemistry, Organic Chemistry and Biochemistry-...     3.0   \n",
       "2                                            BookViewer     3.5   \n",
       "3                                    Brick Instructions     3.5   \n",
       "4     Introduction to Python Programming by GoLearni...     2.0   \n",
       "...                                                 ...     ...   \n",
       "5316                                          Get Color     3.0   \n",
       "5317                                            JS King     1.0   \n",
       "5318                                        MQTTSniffer     2.5   \n",
       "5319                      Dev Utils - JSON, CSV and XML     4.0   \n",
       "5320                                        Simply Text     4.0   \n",
       "\n",
       "             Category  Price  \n",
       "0               Books    0.0  \n",
       "1               Books    0.0  \n",
       "2               Books    0.0  \n",
       "3               Books    0.0  \n",
       "4               Books    0.0  \n",
       "...               ...    ...  \n",
       "5316  Developer Tools   54.5  \n",
       "5317  Developer Tools  269.0  \n",
       "5318  Developer Tools   64.0  \n",
       "5319  Developer Tools  269.0  \n",
       "5320  Developer Tools  219.0  \n",
       "\n",
       "[5321 rows x 4 columns]"
      ]
     },
     "execution_count": 33,
     "metadata": {},
     "output_type": "execute_result"
    }
   ],
   "source": [
    "microtables"
   ]
  },
  {
   "cell_type": "markdown",
   "id": "8c2f5e2c",
   "metadata": {},
   "source": [
    "### 6. Pick two different types of variables and calculate\n"
   ]
  },
  {
   "cell_type": "markdown",
   "id": "82df932e",
   "metadata": {},
   "source": [
    "#### a. their central tendency measures if possible.\n"
   ]
  },
  {
   "cell_type": "markdown",
   "id": "ac544c09",
   "metadata": {},
   "source": [
    "A Python variable is a symbolic name that is a reference or pointer to an object. Once an object is assigned to a variable, you can refer to the object by that name. But the data itself is still contained within the object. (Sturtz, 2018). \n",
    "\n",
    "Both variables chosen after the previous changes are quantitative variables, but we will develop new information with the quantitative variable unto the end of the results of this assignment"
   ]
  },
  {
   "cell_type": "markdown",
   "id": "8273ef83",
   "metadata": {},
   "source": [
    "##### Variable Rating ( 0 to 5)"
   ]
  },
  {
   "cell_type": "code",
   "execution_count": 34,
   "id": "1559306b",
   "metadata": {},
   "outputs": [
    {
     "name": "stdout",
     "output_type": "stream",
     "text": [
      "3.7927081375681264\n"
     ]
    }
   ],
   "source": [
    "mean = microtables[\"Rating\"].mean()\n",
    "print(mean)"
   ]
  },
  {
   "cell_type": "code",
   "execution_count": 35,
   "id": "5581216e",
   "metadata": {},
   "outputs": [
    {
     "name": "stdout",
     "output_type": "stream",
     "text": [
      "4.0\n"
     ]
    }
   ],
   "source": [
    "median = microtables[\"Rating\"].median()\n",
    "print(median )"
   ]
  },
  {
   "cell_type": "markdown",
   "id": "ce233b9e",
   "metadata": {},
   "source": [
    "The middle point and the mean is around 3 and 4. When we check the data set The values is around 0 to 5 maximum"
   ]
  },
  {
   "cell_type": "markdown",
   "id": "9325fdcb",
   "metadata": {},
   "source": [
    "\n",
    "in That case the realtioon between then is that median is gretter than mean. In that case the Skewed distribuition is negative ( Colocar a definiçção de  livro )  Mean < Median \n",
    "\n",
    "It was reported that \"In a symetrical distribuition the frequencies at the right and left tails of the distribuition are identical. In Skewed distribuitions there are either a few extremely high ( positive skew ) or few extremely low( negative skew) values.\" ( Chava, F.N., Guerrero, A. L. et Nagi, 2006, p124)\n"
   ]
  },
  {
   "cell_type": "code",
   "execution_count": 36,
   "id": "cb272525",
   "metadata": {},
   "outputs": [
    {
     "name": "stdout",
     "output_type": "stream",
     "text": [
      "0    4.0\n",
      "dtype: float64\n"
     ]
    }
   ],
   "source": [
    "mode = microtables[\"Rating\"].mode()\n",
    "print(mode)"
   ]
  },
  {
   "cell_type": "markdown",
   "id": "745de8e6",
   "metadata": {},
   "source": [
    "##### Variable Price "
   ]
  },
  {
   "cell_type": "code",
   "execution_count": 37,
   "id": "0b854ef0",
   "metadata": {
    "scrolled": true
   },
   "outputs": [
    {
     "name": "stdout",
     "output_type": "stream",
     "text": [
      "11.012253335839127\n"
     ]
    }
   ],
   "source": [
    "mean = microtables[\"Price\"].mean()\n",
    "print(mean)"
   ]
  },
  {
   "cell_type": "code",
   "execution_count": 38,
   "id": "1c56b336",
   "metadata": {},
   "outputs": [
    {
     "name": "stdout",
     "output_type": "stream",
     "text": [
      "0.0\n"
     ]
    }
   ],
   "source": [
    "median  = microtables[\"Price\"].median()\n",
    "print(median )"
   ]
  },
  {
   "cell_type": "code",
   "execution_count": 39,
   "id": "cfc41e60",
   "metadata": {},
   "outputs": [
    {
     "name": "stdout",
     "output_type": "stream",
     "text": [
      "0    0.0\n",
      "dtype: float64\n"
     ]
    }
   ],
   "source": [
    "mode = microtables[\"Price\"].mode()\n",
    "print(mode)"
   ]
  },
  {
   "cell_type": "markdown",
   "id": "1901b2f5",
   "metadata": {},
   "source": [
    "#### b. their measures of dispersion.\n"
   ]
  },
  {
   "cell_type": "markdown",
   "id": "aa026012",
   "metadata": {},
   "source": [
    "To improve the results of this item: Measures of dispersion, we will use the form of variance ( df.var() ) where the impartial variation on the requested axis will Return and the Standard deviation we will use ( df.std()) to identify known as a reference interval. It is this characteristic of the standard deviation which makes it so useful."
   ]
  },
  {
   "cell_type": "code",
   "execution_count": 40,
   "id": "c2c325b6",
   "metadata": {},
   "outputs": [
    {
     "data": {
      "text/plain": [
       "0.9834317811537051"
      ]
     },
     "execution_count": 40,
     "metadata": {},
     "output_type": "execute_result"
    }
   ],
   "source": [
    "microtables[\"Rating\"].var()"
   ]
  },
  {
   "cell_type": "code",
   "execution_count": 41,
   "id": "40d14a63",
   "metadata": {},
   "outputs": [
    {
     "data": {
      "text/plain": [
       "13736.523101707257"
      ]
     },
     "execution_count": 41,
     "metadata": {},
     "output_type": "execute_result"
    }
   ],
   "source": [
    "microtables[\"Price\"].var()"
   ]
  },
  {
   "cell_type": "code",
   "execution_count": 42,
   "id": "7e63a495",
   "metadata": {},
   "outputs": [
    {
     "data": {
      "text/plain": [
       "0.9916812901097334"
      ]
     },
     "execution_count": 42,
     "metadata": {},
     "output_type": "execute_result"
    }
   ],
   "source": [
    "microtables[\"Rating\"].std()"
   ]
  },
  {
   "cell_type": "code",
   "execution_count": 43,
   "id": "8ba575dd",
   "metadata": {},
   "outputs": [
    {
     "data": {
      "text/plain": [
       "117.2029142201987"
      ]
     },
     "execution_count": 43,
     "metadata": {},
     "output_type": "execute_result"
    }
   ],
   "source": [
    "microtables[\"Price\"].std()"
   ]
  },
  {
   "cell_type": "markdown",
   "id": "342200c7",
   "metadata": {},
   "source": [
    "#### c. the 5 number summary."
   ]
  },
  {
   "cell_type": "code",
   "execution_count": 44,
   "id": "0ca511f2",
   "metadata": {},
   "outputs": [
    {
     "data": {
      "text/html": [
       "<div>\n",
       "<style scoped>\n",
       "    .dataframe tbody tr th:only-of-type {\n",
       "        vertical-align: middle;\n",
       "    }\n",
       "\n",
       "    .dataframe tbody tr th {\n",
       "        vertical-align: top;\n",
       "    }\n",
       "\n",
       "    .dataframe thead th {\n",
       "        text-align: right;\n",
       "    }\n",
       "</style>\n",
       "<table border=\"1\" class=\"dataframe\">\n",
       "  <thead>\n",
       "    <tr style=\"text-align: right;\">\n",
       "      <th></th>\n",
       "      <th>Rating</th>\n",
       "      <th>Price</th>\n",
       "    </tr>\n",
       "  </thead>\n",
       "  <tbody>\n",
       "    <tr>\n",
       "      <th>count</th>\n",
       "      <td>5321.000000</td>\n",
       "      <td>5321.000000</td>\n",
       "    </tr>\n",
       "    <tr>\n",
       "      <th>mean</th>\n",
       "      <td>3.792708</td>\n",
       "      <td>11.012253</td>\n",
       "    </tr>\n",
       "    <tr>\n",
       "      <th>std</th>\n",
       "      <td>0.991681</td>\n",
       "      <td>117.202914</td>\n",
       "    </tr>\n",
       "    <tr>\n",
       "      <th>min</th>\n",
       "      <td>1.000000</td>\n",
       "      <td>0.000000</td>\n",
       "    </tr>\n",
       "    <tr>\n",
       "      <th>25%</th>\n",
       "      <td>3.500000</td>\n",
       "      <td>0.000000</td>\n",
       "    </tr>\n",
       "    <tr>\n",
       "      <th>50%</th>\n",
       "      <td>4.000000</td>\n",
       "      <td>0.000000</td>\n",
       "    </tr>\n",
       "    <tr>\n",
       "      <th>75%</th>\n",
       "      <td>4.500000</td>\n",
       "      <td>0.000000</td>\n",
       "    </tr>\n",
       "    <tr>\n",
       "      <th>max</th>\n",
       "      <td>5.000000</td>\n",
       "      <td>5449.000000</td>\n",
       "    </tr>\n",
       "  </tbody>\n",
       "</table>\n",
       "</div>"
      ],
      "text/plain": [
       "            Rating        Price\n",
       "count  5321.000000  5321.000000\n",
       "mean      3.792708    11.012253\n",
       "std       0.991681   117.202914\n",
       "min       1.000000     0.000000\n",
       "25%       3.500000     0.000000\n",
       "50%       4.000000     0.000000\n",
       "75%       4.500000     0.000000\n",
       "max       5.000000  5449.000000"
      ]
     },
     "execution_count": 44,
     "metadata": {},
     "output_type": "execute_result"
    }
   ],
   "source": [
    "microtables.describe()"
   ]
  },
  {
   "cell_type": "markdown",
   "id": "0bcf3fa1",
   "metadata": {},
   "source": [
    "The 5 number sumary bring information through the function df.describe()\n",
    "Count/ mean / std / min / máx  and news information that we didn´t check before the interquartile ranges (25%, 50% 75%)\n",
    "\n",
    "\"The interquartile range is a useful measure of variability and is given by the lower and upper quartiles. The interquartile range is not vulnerable to outliers and, whatever the distribution of the data, we know that 50% of observations lie within the interquartile range.\" ( Campbell, 2007)"
   ]
  },
  {
   "cell_type": "code",
   "execution_count": 45,
   "id": "0f74e187",
   "metadata": {},
   "outputs": [
    {
     "data": {
      "text/html": [
       "<div>\n",
       "<style scoped>\n",
       "    .dataframe tbody tr th:only-of-type {\n",
       "        vertical-align: middle;\n",
       "    }\n",
       "\n",
       "    .dataframe tbody tr th {\n",
       "        vertical-align: top;\n",
       "    }\n",
       "\n",
       "    .dataframe thead th {\n",
       "        text-align: right;\n",
       "    }\n",
       "</style>\n",
       "<table border=\"1\" class=\"dataframe\">\n",
       "  <thead>\n",
       "    <tr style=\"text-align: right;\">\n",
       "      <th></th>\n",
       "      <th>Name</th>\n",
       "      <th>Rating</th>\n",
       "      <th>Category</th>\n",
       "      <th>Price</th>\n",
       "    </tr>\n",
       "  </thead>\n",
       "  <tbody>\n",
       "    <tr>\n",
       "      <th>5281</th>\n",
       "      <td>Pengwin Enterprise</td>\n",
       "      <td>3.0</td>\n",
       "      <td>Developer Tools</td>\n",
       "      <td>5449.0</td>\n",
       "    </tr>\n",
       "  </tbody>\n",
       "</table>\n",
       "</div>"
      ],
      "text/plain": [
       "                    Name  Rating         Category   Price\n",
       "5281  Pengwin Enterprise     3.0  Developer Tools  5449.0"
      ]
     },
     "execution_count": 45,
     "metadata": {},
     "output_type": "execute_result"
    }
   ],
   "source": [
    "microtables[microtables[\"Price\"]==microtables[\"Price\"].max()]"
   ]
  },
  {
   "cell_type": "markdown",
   "id": "20754472",
   "metadata": {},
   "source": [
    "Checking if the \"max\" value resulted in the previous function agrees with the Data set using the fuction in Pandas Library ( df.max(). Then in the column \"Price\" the Value is 5449.0 that is located in row number 5281."
   ]
  },
  {
   "cell_type": "markdown",
   "id": "ddd4fef2",
   "metadata": {},
   "source": [
    "### 7. Using appropriate graphics, plot the 2 variables picked in 6 to get a better idea of its dispersion.\n"
   ]
  },
  {
   "cell_type": "markdown",
   "id": "85176c57",
   "metadata": {},
   "source": [
    "Used to describe and illustrate graphics, we have matplotlib and seaborn Libraries. Used in the development of this question showing the analysis of the two variables \"Rating\" and \"Price\" of the finalized Dataset."
   ]
  },
  {
   "cell_type": "markdown",
   "id": "c94bbba2",
   "metadata": {},
   "source": [
    "##### Analising the variable RATING"
   ]
  },
  {
   "cell_type": "code",
   "execution_count": 46,
   "id": "a0f2a7d9",
   "metadata": {},
   "outputs": [],
   "source": [
    "import matplotlib.pyplot as plt"
   ]
  },
  {
   "cell_type": "code",
   "execution_count": 47,
   "id": "aaad2cd0",
   "metadata": {},
   "outputs": [
    {
     "data": {
      "text/plain": [
       "<AxesSubplot:>"
      ]
     },
     "execution_count": 47,
     "metadata": {},
     "output_type": "execute_result"
    },
    {
     "data": {
      "image/png": "[encoded data removed]",
      "text/plain": [
       "<Figure size 720x360 with 1 Axes>"
      ]
     },
     "metadata": {},
     "output_type": "display_data"
    }
   ],
   "source": [
    "microtables.Rating.value_counts().nlargest(50).plot(kind=\"bar\", figsize=(10,5))\n"
   ]
  },
  {
   "cell_type": "code",
   "execution_count": 48,
   "id": "48349b3b",
   "metadata": {},
   "outputs": [
    {
     "data": {
      "text/plain": [
       "<AxesSubplot:>"
      ]
     },
     "execution_count": 48,
     "metadata": {},
     "output_type": "execute_result"
    },
    {
     "data": {
      "image/png": "[encoded data removed]",
      "text/plain": [
       "<Figure size 432x288 with 1 Axes>"
      ]
     },
     "metadata": {},
     "output_type": "display_data"
    }
   ],
   "source": [
    "microtables.Rating.hist()"
   ]
  },
  {
   "cell_type": "code",
   "execution_count": 49,
   "id": "5ad4feda",
   "metadata": {},
   "outputs": [],
   "source": [
    "import seaborn as sns"
   ]
  },
  {
   "cell_type": "code",
   "execution_count": 50,
   "id": "b0d984a6",
   "metadata": {
    "scrolled": true
   },
   "outputs": [
    {
     "data": {
      "text/plain": [
       "<AxesSubplot:xlabel='Count', ylabel='Rating'>"
      ]
     },
     "execution_count": 50,
     "metadata": {},
     "output_type": "execute_result"
    },
    {
     "data": {
      "image/png": "[encoded data removed]",
      "text/plain": [
       "<Figure size 432x288 with 1 Axes>"
      ]
     },
     "metadata": {},
     "output_type": "display_data"
    }
   ],
   "source": [
    "sns.histplot(data=microtables, y=\"Rating\",stat='count',common_bins= 'True')"
   ]
  },
  {
   "cell_type": "markdown",
   "id": "56cee542",
   "metadata": {},
   "source": [
    "Analising the variable Rating we can check that amount of app get better rating around indice 4 / 4.5 and 5. "
   ]
  },
  {
   "cell_type": "code",
   "execution_count": 51,
   "id": "c1644f32",
   "metadata": {},
   "outputs": [
    {
     "data": {
      "text/plain": [
       "<AxesSubplot:xlabel='Rating'>"
      ]
     },
     "execution_count": 51,
     "metadata": {},
     "output_type": "execute_result"
    },
    {
     "data": {
      "image/png": "[encoded data removed]",
      "text/plain": [
       "<Figure size 432x288 with 1 Axes>"
      ]
     },
     "metadata": {},
     "output_type": "display_data"
    }
   ],
   "source": [
    "sns.boxplot(x=microtable[\"Rating\"])"
   ]
  },
  {
   "cell_type": "code",
   "execution_count": 52,
   "id": "4e56715e",
   "metadata": {},
   "outputs": [
    {
     "data": {
      "text/plain": [
       "<AxesSubplot:>"
      ]
     },
     "execution_count": 52,
     "metadata": {},
     "output_type": "execute_result"
    },
    {
     "data": {
      "image/png": "[encoded data removed]",
      "text/plain": [
       "<Figure size 432x288 with 1 Axes>"
      ]
     },
     "metadata": {},
     "output_type": "display_data"
    }
   ],
   "source": [
    "microtables[\"Rating\"].plot.box()"
   ]
  },
  {
   "cell_type": "markdown",
   "id": "ef0dfe6b",
   "metadata": {},
   "source": [
    "\n",
    "\n",
    "Outliers can, in some cases of extreme values, influence the search result.\n",
    "\n",
    "\"Outliers is a statistical observation that is markedly different in value from the others of the sample\" (Merriam-Webster, 2021)\n",
    "\n",
    "Our graphs show values between 0 and 5, performed by people who rate the product downloaded from the Microsoft Store. In this case, the Outliers values do not influence the result as they are close values, knowing that the graph variation is from 0 to 5."
   ]
  },
  {
   "cell_type": "code",
   "execution_count": 53,
   "id": "5d0774c2",
   "metadata": {},
   "outputs": [
    {
     "data": {
      "text/plain": [
       "<AxesSubplot:xlabel='Rating', ylabel='count'>"
      ]
     },
     "execution_count": 53,
     "metadata": {},
     "output_type": "execute_result"
    },
    {
     "data": {
      "image/png": "[encoded data removed]",
      "text/plain": [
       "<Figure size 432x288 with 1 Axes>"
      ]
     },
     "metadata": {},
     "output_type": "display_data"
    }
   ],
   "source": [
    "sns.countplot(x='Rating', data=microtables.iloc[:])  "
   ]
  },
  {
   "cell_type": "markdown",
   "id": "00a455f5",
   "metadata": {},
   "source": [
    "##### Analising the variable Price"
   ]
  },
  {
   "cell_type": "code",
   "execution_count": 54,
   "id": "958d3bfd",
   "metadata": {},
   "outputs": [
    {
     "data": {
      "text/plain": [
       "<AxesSubplot:xlabel='Price'>"
      ]
     },
     "execution_count": 54,
     "metadata": {},
     "output_type": "execute_result"
    },
    {
     "data": {
      "image/png": "[encoded data removed]",
      "text/plain": [
       "<Figure size 432x288 with 1 Axes>"
      ]
     },
     "metadata": {},
     "output_type": "display_data"
    }
   ],
   "source": [
    "sns.boxplot(x=microtables[\"Price\"])"
   ]
  },
  {
   "cell_type": "code",
   "execution_count": 55,
   "id": "7275b741",
   "metadata": {},
   "outputs": [
    {
     "data": {
      "text/plain": [
       "<AxesSubplot:>"
      ]
     },
     "execution_count": 55,
     "metadata": {},
     "output_type": "execute_result"
    },
    {
     "data": {
      "image/png": "[encoded data removed]",
      "text/plain": [
       "<Figure size 432x288 with 1 Axes>"
      ]
     },
     "metadata": {},
     "output_type": "display_data"
    }
   ],
   "source": [
    "microtables[\"Price\"].plot.box()"
   ]
  },
  {
   "cell_type": "markdown",
   "id": "9faa7b8e",
   "metadata": {},
   "source": [
    "From the boxplot we can see that the variable PRICE contains outliers."
   ]
  },
  {
   "cell_type": "markdown",
   "id": "1595acce",
   "metadata": {},
   "source": [
    "And confirming the previusly information we can check with another graph"
   ]
  },
  {
   "cell_type": "code",
   "execution_count": 56,
   "id": "34df0620",
   "metadata": {},
   "outputs": [
    {
     "data": {
      "text/plain": [
       "<AxesSubplot:title={'center':'Frequency distribuitio of Rating'}>"
      ]
     },
     "execution_count": 56,
     "metadata": {},
     "output_type": "execute_result"
    },
    {
     "data": {
      "image/png": "[encoded data removed]",
      "text/plain": [
       "<Figure size 432x288 with 1 Axes>"
      ]
     },
     "metadata": {},
     "output_type": "display_data"
    }
   ],
   "source": [
    "microtables['Price'].value_counts().plot(kind='bar', title='Frequency distribuitio of Rating')"
   ]
  },
  {
   "cell_type": "code",
   "execution_count": 57,
   "id": "ab600732",
   "metadata": {},
   "outputs": [
    {
     "data": {
      "text/plain": [
       "<AxesSubplot:>"
      ]
     },
     "execution_count": 57,
     "metadata": {},
     "output_type": "execute_result"
    },
    {
     "data": {
      "image/png": "[encoded data removed]",
      "text/plain": [
       "<Figure size 432x288 with 1 Axes>"
      ]
     },
     "metadata": {},
     "output_type": "display_data"
    }
   ],
   "source": [
    "microtables.Price.hist(bins=50)"
   ]
  },
  {
   "cell_type": "code",
   "execution_count": 58,
   "id": "729ad332",
   "metadata": {},
   "outputs": [
    {
     "data": {
      "text/plain": [
       "<AxesSubplot:xlabel='count', ylabel='Price'>"
      ]
     },
     "execution_count": 58,
     "metadata": {},
     "output_type": "execute_result"
    },
    {
     "data": {
      "image/png": "[encoded data removed]",
      "text/plain": [
       "<Figure size 432x288 with 1 Axes>"
      ]
     },
     "metadata": {},
     "output_type": "display_data"
    }
   ],
   "source": [
    "sns.countplot(y=\"Price\", data=microtables.iloc[0:10],saturation=0.75)  "
   ]
  },
  {
   "cell_type": "markdown",
   "id": "8587f98d",
   "metadata": {},
   "source": [
    "Through the analysis of the graphics, it can be seen that the visualization became frequent without much clarity. This happened because the variable \"Price\" has Outliers in a big difference from the other numbers. We probably noticed that one of the Outliers is the Value 5449.00 previously checked which is present in the category \"Developer Tools\"and the value closest to the average is around 3000.00"
   ]
  },
  {
   "cell_type": "markdown",
   "id": "b6ec6c2e",
   "metadata": {},
   "source": [
    "### 8. Do the variables picked in 6, follow a symmetric distribution? Provide a short description of their distribution. Support your analysis with the descriptive statistics already calculated, and on the graphics that you plot in the previous item. You can calculate extra descriptive statistics if you think they are relevant to analyse the distribution of your variables."
   ]
  },
  {
   "cell_type": "code",
   "execution_count": 59,
   "id": "b7e9a8c8",
   "metadata": {},
   "outputs": [
    {
     "data": {
      "text/plain": [
       "<AxesSubplot:xlabel='Price'>"
      ]
     },
     "execution_count": 59,
     "metadata": {},
     "output_type": "execute_result"
    },
    {
     "data": {
      "image/png": "[encoded data removed]",
      "text/plain": [
       "<Figure size 432x288 with 1 Axes>"
      ]
     },
     "metadata": {},
     "output_type": "display_data"
    }
   ],
   "source": [
    "sns.boxplot(x=microtables[\"Price\"])"
   ]
  },
  {
   "cell_type": "markdown",
   "id": "a7984229",
   "metadata": {},
   "source": [
    "Examining the frequency of values ​​and understanding the variation so strong for Outliers, we can use the function below, as well as Return a Series containing counts of unique rows in the DataFrame taken from Pandas Libraries."
   ]
  },
  {
   "cell_type": "code",
   "execution_count": 60,
   "id": "4a305ba4",
   "metadata": {},
   "outputs": [
    {
     "data": {
      "text/plain": [
       "00          5163\n",
       " 269.00       55\n",
       " 54.00        14\n",
       " 549.00       10\n",
       " 109.00        9\n",
       " 164.00        8\n",
       " 144.00        5\n",
       " 219.00        5\n",
       " 1099.00       4\n",
       " 69.00         4\n",
       " 79.00         4\n",
       " 154.00        3\n",
       " 99.00         3\n",
       " 1624.00       3\n",
       " 59.00         2\n",
       " 2149.00       1\n",
       " 1349.00       1\n",
       " 54.50         1\n",
       " 319.00        1\n",
       " 209.00        1\n",
       " 329.40        1\n",
       " 114.00        1\n",
       " 489.00        1\n",
       " 119.00        1\n",
       " 324.00        1\n",
       " 139.00        1\n",
       " 2599.00       1\n",
       " 624.00        1\n",
       " 1521.80       1\n",
       " 279.00        1\n",
       " 94.00         1\n",
       " 189.00        1\n",
       " 1899.00       1\n",
       " 194.00        1\n",
       " 89.50         1\n",
       " 5449.00       1\n",
       " 1149.00       1\n",
       " 299.00        1\n",
       " 574.00        1\n",
       " 134.00        1\n",
       " 824.00        1\n",
       " 699.00        1\n",
       " 434.00        1\n",
       " 64.00         1\n",
       "Name: Price, dtype: int64"
      ]
     },
     "execution_count": 60,
     "metadata": {},
     "output_type": "execute_result"
    }
   ],
   "source": [
    "microtable[\"Price\"].value_counts()"
   ]
  },
  {
   "cell_type": "code",
   "execution_count": 61,
   "id": "579b4ca3",
   "metadata": {},
   "outputs": [
    {
     "data": {
      "text/plain": [
       "4.0    1299\n",
       "5.0     968\n",
       "4.5     900\n",
       "3.5     844\n",
       "3.0     615\n",
       "2.5     276\n",
       "1.0     201\n",
       "2.0     156\n",
       "1.5      62\n",
       "Name: Rating, dtype: int64"
      ]
     },
     "execution_count": 61,
     "metadata": {},
     "output_type": "execute_result"
    }
   ],
   "source": [
    "microtable[\"Rating\"].value_counts()"
   ]
  },
  {
   "cell_type": "markdown",
   "id": "7b88c4b8",
   "metadata": {},
   "source": [
    "We can observe that in the variable \"Price\" the value \"00\" has a repetition of 5631 times as a result, more frequent and distant from the second most common value, the value 269. Observing the other variable \"Rating\" we can have a result the value is \"4\" as mode and frequent in the Column by 1299, not being as far from the others as we noticed in the previous variable."
   ]
  },
  {
   "cell_type": "markdown",
   "id": "8bb74989",
   "metadata": {},
   "source": [
    "The quartiles mentioned previously in one of the questions can also be computed through the functions below, in this case it will bring the minimum values of each variable:"
   ]
  },
  {
   "cell_type": "code",
   "execution_count": 62,
   "id": "8a2f308d",
   "metadata": {},
   "outputs": [
    {
     "name": "stdout",
     "output_type": "stream",
     "text": [
      "0.0\n"
     ]
    }
   ],
   "source": [
    "Q1 = microtables[\"Price\"].quantile(0.25)\n",
    "Q3 = microtables[\"Price\"].quantile(0.75)\n",
    "IQR = Q3 - Q1\n",
    "print(IQR)"
   ]
  },
  {
   "cell_type": "code",
   "execution_count": 63,
   "id": "498b6b70",
   "metadata": {},
   "outputs": [
    {
     "name": "stdout",
     "output_type": "stream",
     "text": [
      "1.0\n"
     ]
    }
   ],
   "source": [
    "Q1 = microtables[\"Rating\"].quantile(0.25)\n",
    "Q3 = microtables[\"Rating\"].quantile(0.75)\n",
    "IQR = Q3 - Q1\n",
    "print(IQR)"
   ]
  },
  {
   "cell_type": "markdown",
   "id": "bea3381e",
   "metadata": {},
   "source": [
    "The relationship between the two variables can be analyzed using the functions below. This is an axis-level function and will draw the heat map for the currently active axes. \n",
    "Here used this function directly from the seaborn Library."
   ]
  },
  {
   "cell_type": "code",
   "execution_count": 64,
   "id": "c7c8a70e",
   "metadata": {},
   "outputs": [
    {
     "data": {
      "text/html": [
       "<div>\n",
       "<style scoped>\n",
       "    .dataframe tbody tr th:only-of-type {\n",
       "        vertical-align: middle;\n",
       "    }\n",
       "\n",
       "    .dataframe tbody tr th {\n",
       "        vertical-align: top;\n",
       "    }\n",
       "\n",
       "    .dataframe thead th {\n",
       "        text-align: right;\n",
       "    }\n",
       "</style>\n",
       "<table border=\"1\" class=\"dataframe\">\n",
       "  <thead>\n",
       "    <tr style=\"text-align: right;\">\n",
       "      <th></th>\n",
       "      <th>Rating</th>\n",
       "      <th>Price</th>\n",
       "    </tr>\n",
       "  </thead>\n",
       "  <tbody>\n",
       "    <tr>\n",
       "      <th>Rating</th>\n",
       "      <td>1.00000</td>\n",
       "      <td>-0.09325</td>\n",
       "    </tr>\n",
       "    <tr>\n",
       "      <th>Price</th>\n",
       "      <td>-0.09325</td>\n",
       "      <td>1.00000</td>\n",
       "    </tr>\n",
       "  </tbody>\n",
       "</table>\n",
       "</div>"
      ],
      "text/plain": [
       "         Rating    Price\n",
       "Rating  1.00000 -0.09325\n",
       "Price  -0.09325  1.00000"
      ]
     },
     "execution_count": 64,
     "metadata": {},
     "output_type": "execute_result"
    },
    {
     "data": {
      "image/png": "[encoded data removed]",
      "text/plain": [
       "<Figure size 360x360 with 2 Axes>"
      ]
     },
     "metadata": {},
     "output_type": "display_data"
    }
   ],
   "source": [
    "plt.figure(figsize=(5,5))\n",
    "c= microtables.corr()\n",
    "sns.heatmap(c,cmap='BrBG',annot=True)\n",
    "c \n"
   ]
  },
  {
   "cell_type": "markdown",
   "id": "d061109f",
   "metadata": {},
   "source": [
    "Analising the point between two variables we check with a Scatterplot grafhs that show the relation with theses two elements."
   ]
  },
  {
   "cell_type": "code",
   "execution_count": 65,
   "id": "d1ea021e",
   "metadata": {},
   "outputs": [
    {
     "data": {
      "image/png": "[encoded data removed]",
      "text/plain": [
       "<Figure size 720x432 with 1 Axes>"
      ]
     },
     "metadata": {},
     "output_type": "display_data"
    }
   ],
   "source": [
    "fig, ax = plt.subplots(figsize=(10,6))\n",
    "ax.scatter(microtables['Rating'], microtables['Price'])\n",
    "ax.set_xlabel('Rating')\n",
    "ax.set_ylabel('Price')\n",
    "plt.show() "
   ]
  },
  {
   "cell_type": "markdown",
   "id": "7f2d5beb",
   "metadata": {},
   "source": [
    "#### Developing a analysis with Qualitative and Quantitative Variables"
   ]
  },
  {
   "cell_type": "markdown",
   "id": "d10caec7",
   "metadata": {},
   "source": [
    "Studying all the existing variables in the spreadsheet, we can plot values and results with all the information through graphics. Some Examples of graphs from the Seaborn library are used to connect quantitative and qualitative data of the DATASET. Here we chose the RATING variable that we have already studied in the previous questions and the CATEGORY variable in the following graph.  We obtain results of interest that describe the intensity and distance of the MEDIAN value through lines.\n",
    "In the study below (Numpy import is necessary to work with object and float) :"
   ]
  },
  {
   "cell_type": "code",
   "execution_count": 66,
   "id": "7e1ffb42",
   "metadata": {},
   "outputs": [
    {
     "data": {
      "image/png": "[encoded data removed]",
      "text/plain": [
       "<Figure size 432x288 with 1 Axes>"
      ]
     },
     "metadata": {},
     "output_type": "display_data"
    }
   ],
   "source": [
    "from numpy import median\n",
    "\n",
    "ax = sns.barplot(x=\"Rating\", y=\"Category\", data=microtables.iloc[:], estimator=median)"
   ]
  },
  {
   "cell_type": "markdown",
   "id": "15e4ae9c",
   "metadata": {},
   "source": [
    "The CATEGORY variable is composed of the niche of which the products are part. As a result, we verify that the frequency of downloads performed, as shown in the chart below, is MUSIC, BOOKS AND BUSINESS. These are the most common values of the variable."
   ]
  },
  {
   "cell_type": "code",
   "execution_count": 67,
   "id": "43524142",
   "metadata": {},
   "outputs": [
    {
     "data": {
      "text/plain": [
       "<AxesSubplot:>"
      ]
     },
     "execution_count": 67,
     "metadata": {},
     "output_type": "execute_result"
    },
    {
     "data": {
      "image/png": "[encoded data removed]",
      "text/plain": [
       "<Figure size 720x360 with 1 Axes>"
      ]
     },
     "metadata": {},
     "output_type": "display_data"
    }
   ],
   "source": [
    "microtables.Category.value_counts().nlargest(50).plot(kind=\"bar\", figsize=(10,5))"
   ]
  },
  {
   "cell_type": "markdown",
   "id": "e9b75b8d",
   "metadata": {},
   "source": [
    "Checking the information through the function df.mode() and df.value_counts() :\n",
    "\n",
    "- There is just one mode and the value is Music."
   ]
  },
  {
   "cell_type": "code",
   "execution_count": 68,
   "id": "09806caf",
   "metadata": {},
   "outputs": [
    {
     "name": "stdout",
     "output_type": "stream",
     "text": [
      "0    Music\n",
      "dtype: object\n"
     ]
    }
   ],
   "source": [
    "mode = microtables[\"Category\"].mode()\n",
    "print(mode)"
   ]
  },
  {
   "cell_type": "code",
   "execution_count": 69,
   "id": "271a4eb0",
   "metadata": {},
   "outputs": [
    {
     "data": {
      "text/plain": [
       "Music                      753\n",
       "Books                      707\n",
       "Business                   679\n",
       "Health and Fitness         527\n",
       "Developer Tools            500\n",
       "Lifestyle                  492\n",
       "News and Weather           483\n",
       "Kids and Family            345\n",
       "Social                     328\n",
       "Food and Dining            166\n",
       "Navigation and Maps        154\n",
       "Multimedia Design          117\n",
       "Government and Politics     70\n",
       "Name: Category, dtype: int64"
      ]
     },
     "execution_count": 69,
     "metadata": {},
     "output_type": "execute_result"
    }
   ],
   "source": [
    "microtables[\"Category\"].value_counts()"
   ]
  },
  {
   "cell_type": "markdown",
   "id": "50a796cb",
   "metadata": {},
   "source": [
    "\n",
    "\n",
    "### 9. Do the variables picked in 6 have any missing values? Justify your answer."
   ]
  },
  {
   "cell_type": "markdown",
   "id": "bdd9323f",
   "metadata": {},
   "source": [
    "As checked and did the treatment of data previously before, the data set had one missing value, and the name was microsoft_store, and after that, to check, I created another dataframe t change it in microtable. Finally, the dataset that we worked on in number 6. hadn´t any missing values as we checked in the function used below."
   ]
  },
  {
   "cell_type": "code",
   "execution_count": 70,
   "id": "adab562e",
   "metadata": {},
   "outputs": [
    {
     "name": "stdout",
     "output_type": "stream",
     "text": [
      "Name                  1\n",
      "Rating                1\n",
      "No of people Rated    0\n",
      "Category              1\n",
      "Date                  1\n",
      "Price                 1\n",
      "dtype: int64\n"
     ]
    }
   ],
   "source": [
    "print(microsoft_store.isnull().sum()) "
   ]
  },
  {
   "cell_type": "code",
   "execution_count": 71,
   "id": "7742ec5f",
   "metadata": {},
   "outputs": [
    {
     "name": "stdout",
     "output_type": "stream",
     "text": [
      "Name        1\n",
      "Rating      1\n",
      "Category    1\n",
      "Price       1\n",
      "dtype: int64\n"
     ]
    }
   ],
   "source": [
    "print(microtable.isnull().sum()) "
   ]
  },
  {
   "cell_type": "code",
   "execution_count": 72,
   "id": "9d3b7cbf",
   "metadata": {},
   "outputs": [
    {
     "name": "stdout",
     "output_type": "stream",
     "text": [
      "Name        0\n",
      "Rating      0\n",
      "Category    0\n",
      "Price       0\n",
      "dtype: int64\n"
     ]
    }
   ],
   "source": [
    "print(microtables.isnull().sum()) "
   ]
  },
  {
   "cell_type": "markdown",
   "id": "84e7a5f9",
   "metadata": {},
   "source": [
    "### References"
   ]
  },
  {
   "cell_type": "markdown",
   "id": "251c6911",
   "metadata": {},
   "source": [
    "   Campbell MJ, Machin D., Walters SJ.(2007) Medical Statistics: a Commonsense Approach 4th ed. Chichester: Wiley-Blackwell"
   ]
  },
  {
   "cell_type": "markdown",
   "id": "a1f02898",
   "metadata": {},
   "source": [
    "Chava, F.N., Guerrero, A.L. (2006) Social Statitics for a Diverse Society. London: Pine Forge Press"
   ]
  },
  {
   "cell_type": "markdown",
   "id": "6e80e9a7",
   "metadata": {},
   "source": [
    "Lumen Learning (2021) Introduction to Statitics: Module 2: Descriptive Statistics. Avaiable at: https://courses.lumenlearning.com/introstats1/chapter/skewness-and-the-mean-median-and-mode/ ( Accessed 19 October 2021 )"
   ]
  },
  {
   "cell_type": "markdown",
   "id": "7cff4371",
   "metadata": {},
   "source": [
    "McLeod, S. A. (2019). Z-score: definition, calculation and interpretation. Simply Psychology. Avaiable at:  https://www.simplypsychology.org/z-score.html ( Acessed 23 October 2021 )"
   ]
  },
  {
   "cell_type": "markdown",
   "id": "320295b2",
   "metadata": {},
   "source": [
    "Merriam-Webster.com Dictionary, Merriam-Webster. Avaiable at: https://www.merriam-webster.com/dictionary/outlier. (Accessed 31 October 2021)"
   ]
  },
  {
   "cell_type": "markdown",
   "id": "c0f2e61e",
   "metadata": {},
   "source": [
    "Noble Desktop (2021) Range, IQR, & Percentile Calculation.\n",
    "Avaiable at: https://www.nobledesktop.com/learn/python/range-iqr-percentile-in-python (Accessed 21 October 2021)"
   ]
  },
  {
   "cell_type": "markdown",
   "id": "810959e5",
   "metadata": {},
   "source": [
    "Pandas (2021) Data Frame. Avaiable at: https://pandas.pydata.org/pandas-docs/stable/reference/frame.html ( Accessed 18 October 2021)"
   ]
  },
  {
   "cell_type": "markdown",
   "id": "2c37b9df",
   "metadata": {},
   "source": [
    "Rao, V. V. (2021) Windows Store: Dataset of the apps in the Microsoft Windows Store. Avaiable at: https://www.kaggle.com/vishnuvarthanrao/windows-store?select=msft.csv ( Accessed 16 October 2021)."
   ]
  },
  {
   "cell_type": "markdown",
   "id": "e9f0d8f2",
   "metadata": {},
   "source": [
    "Sturtz, John (2018) Real Pythoon: Variables in Python, Avaiable at: https://realpython.com/python-variables/ ( Acessed 20 October 2021)"
   ]
  },
  {
   "cell_type": "markdown",
   "id": "a7fb0a9a",
   "metadata": {},
   "source": [
    "Summerfield, M. (2010) Programming in Python 3 : a complete introduction to the Python languague. 2nd edn. Indiana: Pearson.\n"
   ]
  },
  {
   "cell_type": "markdown",
   "id": "6e567438",
   "metadata": {},
   "source": [
    "### Libraries "
   ]
  },
  {
   "cell_type": "code",
   "execution_count": null,
   "id": "47b375ca",
   "metadata": {},
   "outputs": [],
   "source": []
  },
  {
   "cell_type": "markdown",
   "id": "29e7c74a",
   "metadata": {},
   "source": [
    "https://matplotlib.org/stable/index.html"
   ]
  },
  {
   "cell_type": "markdown",
   "id": "790b80a5",
   "metadata": {},
   "source": [
    "https://numpy.org/doc/stable/index.html"
   ]
  },
  {
   "cell_type": "markdown",
   "id": "d8bec1e0",
   "metadata": {},
   "source": [
    "https://pandas.pydata.org/pandas-docs/stable/index.html"
   ]
  },
  {
   "cell_type": "markdown",
   "id": "6e710dc0",
   "metadata": {},
   "source": [
    "https://plotly.com/graphing-libraries/"
   ]
  },
  {
   "cell_type": "markdown",
   "id": "219362d1",
   "metadata": {},
   "source": [
    "https://seaborn.pydata.org/index.html"
   ]
  }
 ],
 "metadata": {
  "kernelspec": {
   "display_name": "Python 3 (ipykernel)",
   "language": "python",
   "name": "python3"
  },
  "language_info": {
   "codemirror_mode": {
    "name": "ipython",
    "version": 3
   },
   "file_extension": ".py",
   "mimetype": "text/x-python",
   "name": "python",
   "nbconvert_exporter": "python",
   "pygments_lexer": "ipython3",
   "version": "3.9.7"
  }
 },
 "nbformat": 4,
 "nbformat_minor": 5
}
